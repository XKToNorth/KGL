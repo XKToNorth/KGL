{
 "cells": [
  {
   "cell_type": "markdown",
   "source": [
    "一、数组操作"
   ],
   "metadata": {
    "collapsed": false
   },
   "id": "695752e521f7442a"
  },
  {
   "cell_type": "markdown",
   "source": [
    "min（返回数组中的最小值。）"
   ],
   "metadata": {
    "collapsed": false
   },
   "id": "de76a5eca5abbee3"
  },
  {
   "cell_type": "markdown",
   "source": [],
   "metadata": {
    "collapsed": false
   },
   "id": "c139fb9fbc714dab"
  },
  {
   "cell_type": "code",
   "outputs": [
    {
     "data": {
      "text/plain": "1"
     },
     "execution_count": 1,
     "metadata": {},
     "output_type": "execute_result"
    }
   ],
   "source": [
    "import numpy as np\n",
    "#示例1：array([1,1,2,3,3,4,5,6,6,2])\n",
    "#示例2：array([0,1,2,3,3,4,5,6,6,2])\n",
    "#示例3：array([2,2,2,3,3,4,5,6,6,2])\n",
    "arr = np.array([1,1,2,3,3,4,5,6,6,2])\n",
    "np.min(arr)"
   ],
   "metadata": {
    "collapsed": false,
    "ExecuteTime": {
     "end_time": "2024-06-16T05:24:06.761739Z",
     "start_time": "2024-06-16T05:24:06.660566Z"
    }
   },
   "id": "d0e90edd747043a2",
   "execution_count": 1
  },
  {
   "cell_type": "markdown",
   "source": [
    "max（返回数组中的最大值。）"
   ],
   "metadata": {
    "collapsed": false
   },
   "id": "7e720e40a74866cf"
  },
  {
   "cell_type": "code",
   "outputs": [
    {
     "data": {
      "text/plain": "6"
     },
     "execution_count": 4,
     "metadata": {},
     "output_type": "execute_result"
    }
   ],
   "source": [
    "import numpy as np\n",
    "#示例1：array([1,1,2,3,3,4,5,6,6,2])\n",
    "#示例2：array([0,1,2,3,3,4,5,6,7,2])\n",
    "#示例3：array([2,2,2,3,3,4,5,6,8,2])\n",
    "arr = np.array([2,2,2,3,3,4,5,6,6,2])\n",
    "np.max(arr)"
   ],
   "metadata": {
    "collapsed": false,
    "ExecuteTime": {
     "end_time": "2024-06-15T09:14:00.521956Z",
     "start_time": "2024-06-15T09:14:00.510987Z"
    }
   },
   "id": "14ab29e8ebff7638",
   "execution_count": 4
  },
  {
   "cell_type": "markdown",
   "source": [
    "unique(返回一个所有唯一元素排序的数组。)\n",
    "\n",
    "return_counts:如果为True，返回数组中每个唯一元素出现的次数。"
   ],
   "metadata": {
    "collapsed": false
   },
   "id": "797dd58ca5bef94e"
  },
  {
   "cell_type": "code",
   "outputs": [
    {
     "data": {
      "text/plain": "(array([2, 3, 4, 5, 6, 8]), array([4, 2, 1, 1, 1, 1], dtype=int64))"
     },
     "execution_count": 9,
     "metadata": {},
     "output_type": "execute_result"
    }
   ],
   "source": [
    "import numpy as np\n",
    "#示例1：array([1,1,2,3,3,4,5,6,6,2])\n",
    "#示例2：array([0,1,2,3,3,4,5,6,7,2])\n",
    "#示例3：array([2,2,2,3,3,4,5,6,8,2])\n",
    "arr = np.array([2,2,2,3,3,4,5,6,8,2])\n",
    "np.unique(arr,return_counts=True)"
   ],
   "metadata": {
    "collapsed": false,
    "ExecuteTime": {
     "end_time": "2024-06-15T09:22:25.669850Z",
     "start_time": "2024-06-15T09:22:25.662874Z"
    }
   },
   "id": "8852709d73607012",
   "execution_count": 9
  },
  {
   "cell_type": "markdown",
   "source": [
    "mean(返回数组的平均数)\n",
    "\n"
   ],
   "metadata": {
    "collapsed": false
   },
   "id": "cdabfc8ef7413fd7"
  },
  {
   "cell_type": "code",
   "outputs": [
    {
     "data": {
      "text/plain": "6"
     },
     "execution_count": 16,
     "metadata": {},
     "output_type": "execute_result"
    }
   ],
   "source": [
    "import numpy as np\n",
    "#示例1：array([9,1,2,9,9,4,5,8,8,2])\n",
    "#示例2：array([9,1,8,8,6,4,8,8,7,6])\n",
    "#示例3：array([2,2,2,3,3,4,5,6,8,2])\n",
    "arr = np.array([9,1,8,8,6,4,8,8,7,6])\n",
    "np.mean(arr,dtype='int')"
   ],
   "metadata": {
    "collapsed": false,
    "ExecuteTime": {
     "end_time": "2024-06-15T09:26:19.922637Z",
     "start_time": "2024-06-15T09:26:19.907687Z"
    }
   },
   "id": "f9d2eaaca880b318",
   "execution_count": 16
  },
  {
   "cell_type": "markdown",
   "source": [
    "medain(返回数组的中位数。)\n"
   ],
   "metadata": {
    "collapsed": false
   },
   "id": "96acacf2f2fa502d"
  },
  {
   "cell_type": "code",
   "outputs": [
    {
     "data": {
      "text/plain": "6.0"
     },
     "execution_count": 20,
     "metadata": {},
     "output_type": "execute_result"
    }
   ],
   "source": [
    "import numpy as np\n",
    "#示例1：array([[1,2,3],[5,8,4]])\n",
    "#示例2：array([[2,2,4],[5,8,4]])\n",
    "#示例3：array([[1,2,7],[5,8,8]])\n",
    "arr = np.array([[1,2,7],[5,8,8]])\n",
    "np.median(arr)"
   ],
   "metadata": {
    "collapsed": false,
    "ExecuteTime": {
     "end_time": "2024-06-15T09:29:10.891611Z",
     "start_time": "2024-06-15T09:29:10.885632Z"
    }
   },
   "id": "e5cd7ad57b5d49f8",
   "execution_count": 20
  },
  {
   "cell_type": "markdown",
   "source": [
    "reshape(NumPy中最常用的函数之一.返回一个数组，其中包含具有新形状的相同数据。)"
   ],
   "metadata": {
    "collapsed": false
   },
   "id": "466f4a66ac55054b"
  },
  {
   "cell_type": "code",
   "outputs": [
    {
     "data": {
      "text/plain": "array([[ 8, 14,  1],\n       [ 8, 11,  4],\n       [ 9,  4,  1],\n       [13, 13, 11]])"
     },
     "execution_count": 24,
     "metadata": {},
     "output_type": "execute_result"
    }
   ],
   "source": [
    "import numpy as np\n",
    "#示例1：arr.reshape(3,4)\n",
    "#示例2：arr.reshape(4,3)\n",
    "#示例3：arr.reshape(2,6)\n",
    "arr = np.array([[8,14,1],\n",
    "       [8,11,4],\n",
    "       [9,4,1],\n",
    "       [13,13,11]])\n",
    "arr.reshape(4,3)"
   ],
   "metadata": {
    "collapsed": false,
    "ExecuteTime": {
     "end_time": "2024-06-15T09:41:59.416044Z",
     "start_time": "2024-06-15T09:41:59.396111Z"
    }
   },
   "id": "d33de4319a116e08",
   "execution_count": 24
  },
  {
   "cell_type": "markdown",
   "source": [
    "count_nonzero(计算所有非零元素并返回它们的计数。)"
   ],
   "metadata": {
    "collapsed": false
   },
   "id": "acfa5777f8715bcf"
  },
  {
   "cell_type": "code",
   "outputs": [
    {
     "data": {
      "text/plain": "5"
     },
     "execution_count": 42,
     "metadata": {},
     "output_type": "execute_result"
    }
   ],
   "source": [
    "import numpy as np\n",
    "#示例1：array([0,0,1,1,1,0])\n",
    "#示例2：array([0,0,1,1,1,2])\n",
    "#示例3：array([0,2,1,1,1,4])\n",
    "a = np.array([0,2,1,1,1,4])\n",
    "np.count_nonzero(a)"
   ],
   "metadata": {
    "collapsed": false,
    "ExecuteTime": {
     "end_time": "2024-06-15T10:13:48.095825Z",
     "start_time": "2024-06-15T10:13:48.075892Z"
    }
   },
   "id": "dcf96ebedfdea84d",
   "execution_count": 42
  },
  {
   "cell_type": "markdown",
   "source": [
    "argwhere(查找并返回非零元素的所有下标。)"
   ],
   "metadata": {
    "collapsed": false
   },
   "id": "12bbb8221a9047c7"
  },
  {
   "cell_type": "code",
   "outputs": [
    {
     "data": {
      "text/plain": "array([[1],\n       [2],\n       [3],\n       [4],\n       [5]], dtype=int64)"
     },
     "execution_count": 44,
     "metadata": {},
     "output_type": "execute_result"
    }
   ],
   "source": [
    "import numpy as np\n",
    "#示例1：array([0,0,1,1,1,0])\n",
    "#示例2：array([0,0,1,1,1,2])\n",
    "#示例3：array([0,2,1,1,1,4])\n",
    "a = np.array([0,2,1,1,1,4])\n",
    "np.argwhere(a)"
   ],
   "metadata": {
    "collapsed": false,
    "ExecuteTime": {
     "end_time": "2024-06-15T10:16:25.802659Z",
     "start_time": "2024-06-15T10:16:25.784715Z"
    }
   },
   "id": "815c962a2c5e50e0",
   "execution_count": 44
  },
  {
   "cell_type": "markdown",
   "source": [
    "argmax & argmin"
   ],
   "metadata": {
    "collapsed": false
   },
   "id": "63de8dff71d19d36"
  },
  {
   "cell_type": "markdown",
   "source": [
    "argmax返回数组中Max元素的索引。"
   ],
   "metadata": {
    "collapsed": false
   },
   "id": "4e44c62a09ad1705"
  },
  {
   "cell_type": "code",
   "outputs": [
    {
     "data": {
      "text/plain": "2"
     },
     "execution_count": 47,
     "metadata": {},
     "output_type": "execute_result"
    }
   ],
   "source": [
    "import numpy as np\n",
    "#示例1：([[8,7,6,5]])\n",
    "#示例2：([[8,9,6,5]])\n",
    "#示例3：([[2,4,6,5]])\n",
    "arr = np.array([[2,4,6,5]])\n",
    "np.argmax(arr)"
   ],
   "metadata": {
    "collapsed": false,
    "ExecuteTime": {
     "end_time": "2024-06-15T10:18:52.316574Z",
     "start_time": "2024-06-15T10:18:52.305611Z"
    }
   },
   "id": "7df1ee7173dceb87",
   "execution_count": 47
  },
  {
   "cell_type": "markdown",
   "source": [
    "argmin返回数组中min元素的索引。"
   ],
   "metadata": {
    "collapsed": false
   },
   "id": "780406fded21bd8e"
  },
  {
   "cell_type": "code",
   "outputs": [
    {
     "data": {
      "text/plain": "2"
     },
     "execution_count": 49,
     "metadata": {},
     "output_type": "execute_result"
    }
   ],
   "source": [
    "import numpy as np\n",
    "#示例1：([[8,7,3,5]])\n",
    "#示例2：([[8,9,6,5]])\n",
    "#示例3：([[2,4,6,5]])\n",
    "arr = np.array([[8,7,3,5]])\n",
    "np.argmin(arr)"
   ],
   "metadata": {
    "collapsed": false,
    "ExecuteTime": {
     "end_time": "2024-06-15T10:20:35.921487Z",
     "start_time": "2024-06-15T10:20:35.910518Z"
    }
   },
   "id": "5e29f88c79ecabc3",
   "execution_count": 49
  },
  {
   "cell_type": "markdown",
   "source": [
    "sort(对数组排序)"
   ],
   "metadata": {
    "collapsed": false
   },
   "id": "837d13efee49896f"
  },
  {
   "cell_type": "code",
   "outputs": [
    {
     "data": {
      "text/plain": "array([ 4,  5,  7, 11, 15, 20])"
     },
     "execution_count": 51,
     "metadata": {},
     "output_type": "execute_result"
    }
   ],
   "source": [
    "import numpy as np\n",
    "#示例1：([2,3,1,7,4,5])\n",
    "#示例2：([11,20,15,7,4,5])\n",
    "#示例3：([22,0,1,14,4,5])\n",
    "arr = np.array([11,20,15,7,4,5])\n",
    "np.sort(arr)"
   ],
   "metadata": {
    "collapsed": false,
    "ExecuteTime": {
     "end_time": "2024-06-15T11:15:47.409431Z",
     "start_time": "2024-06-15T11:15:47.390492Z"
    }
   },
   "id": "f5439227dcfe9acd",
   "execution_count": 51
  },
  {
   "cell_type": "markdown",
   "source": [
    "abs(返回数组中元素的绝对值。)"
   ],
   "metadata": {
    "collapsed": false
   },
   "id": "17a33e99ec6f2cce"
  },
  {
   "cell_type": "code",
   "outputs": [
    {
     "data": {
      "text/plain": "array([[1, 3, 5],\n       [2, 4, 3]])"
     },
     "execution_count": 53,
     "metadata": {},
     "output_type": "execute_result"
    }
   ],
   "source": [
    "import numpy as np\n",
    "#示例1：([[1,-3,4],[-2,-4,3]])\n",
    "#示例2：([[-1,-3,-5],[-2,-4,3]])\n",
    "#示例3：([[-9,-3,-8],[0,-6,3]])\n",
    "A = np.array([[-1,-3,-5],[-2,-4,3]])\n",
    "np.abs(A)"
   ],
   "metadata": {
    "collapsed": false,
    "ExecuteTime": {
     "end_time": "2024-06-15T11:19:24.366685Z",
     "start_time": "2024-06-15T11:19:24.353727Z"
    }
   },
   "id": "e50d4d26c5a548f3",
   "execution_count": 53
  },
  {
   "cell_type": "markdown",
   "source": [
    "round(将浮点值四舍五入到指定数目的小数点。)\n",
    "decimals:要保留的小数点的个数。"
   ],
   "metadata": {
    "collapsed": false
   },
   "id": "4e965caed1c99614"
  },
  {
   "cell_type": "code",
   "outputs": [
    {
     "data": {
      "text/plain": "array([[0.92674799, 0.56034082, 0.33166335, 0.11918572],\n       [0.13863906, 0.90161266, 0.67286039, 0.05928157],\n       [0.63174547, 0.78706624, 0.74231071, 0.01998786]])"
     },
     "execution_count": 56,
     "metadata": {},
     "output_type": "execute_result"
    }
   ],
   "source": [
    "import numpy as np\n",
    "a = np.random.random(size=(3,4))\n",
    "a"
   ],
   "metadata": {
    "collapsed": false,
    "ExecuteTime": {
     "end_time": "2024-06-15T11:21:11.661789Z",
     "start_time": "2024-06-15T11:21:11.652816Z"
    }
   },
   "id": "ed2a2273560399cd",
   "execution_count": 56
  },
  {
   "cell_type": "code",
   "outputs": [
    {
     "data": {
      "text/plain": "array([[0.9, 0.6, 0.3, 0.1],\n       [0.1, 0.9, 0.7, 0.1],\n       [0.6, 0.8, 0.7, 0. ]])"
     },
     "execution_count": 58,
     "metadata": {},
     "output_type": "execute_result"
    }
   ],
   "source": [
    "#示例1：np.round(a,decimals=0)\n",
    "#示例2：np.round(a,decimals=1)\n",
    "#示例3：np.round(a,decimals=2)\n",
    "np.round(a,decimals=1)"
   ],
   "metadata": {
    "collapsed": false,
    "ExecuteTime": {
     "end_time": "2024-06-15T11:21:50.535859Z",
     "start_time": "2024-06-15T11:21:50.526889Z"
    }
   },
   "id": "2f2b50c5317a0833",
   "execution_count": 58
  },
  {
   "cell_type": "markdown",
   "source": [
    "clip(它可以将数组的裁剪值保持在一个范围内。)"
   ],
   "metadata": {
    "collapsed": false
   },
   "id": "3bd98a1b2d39eee5"
  },
  {
   "cell_type": "code",
   "outputs": [
    {
     "data": {
      "text/plain": "array([ 0,  0, -3, -3,  0,  0,  0,  0,  0])"
     },
     "execution_count": 61,
     "metadata": {},
     "output_type": "execute_result"
    }
   ],
   "source": [
    "import numpy as np\n",
    "arr = np.array([0,1,-3,-4,5,6,7,2,3])\n",
    "#示例1：arr.clip(0,5)\n",
    "#示例2：arr.clip(2,5)\n",
    "#示例3：arr.clip(-3,0)\n",
    "arr.clip(-3,0)"
   ],
   "metadata": {
    "collapsed": false,
    "ExecuteTime": {
     "end_time": "2024-06-15T11:29:01.761001Z",
     "start_time": "2024-06-15T11:29:01.741558Z"
    }
   },
   "id": "8ab42a03c70bbcf1",
   "execution_count": 61
  },
  {
   "cell_type": "markdown",
   "source": [
    "二、替换数组中的值"
   ],
   "metadata": {
    "collapsed": false
   },
   "id": "8da6580c41a3dd7a"
  },
  {
   "cell_type": "markdown",
   "source": [
    "where(返回满足条件的数组元素。)"
   ],
   "metadata": {
    "collapsed": false
   },
   "id": "121a2bd21127939e"
  },
  {
   "cell_type": "code",
   "outputs": [
    {
     "data": {
      "text/plain": "array([ 2,  3,  4,  5,  6,  7,  8,  9, 10, 11])"
     },
     "execution_count": 64,
     "metadata": {},
     "output_type": "execute_result"
    }
   ],
   "source": [
    "import numpy as np\n",
    "a = np.array([[ 0,  1,  2],\n",
    "       [ 3,  4,  5],\n",
    "       [ 6,  7,  8],\n",
    "       [ 9, 10, 11]])\n",
    "#示例1：a[np.where(a>1)]\n",
    "#示例2：a[np.where(a>3)]\n",
    "#示例3：a[np.where(a>5)]\n",
    "a[np.where(a>1)]"
   ],
   "metadata": {
    "collapsed": false,
    "ExecuteTime": {
     "end_time": "2024-06-15T11:33:46.185880Z",
     "start_time": "2024-06-15T11:33:46.175912Z"
    }
   },
   "id": "1091f91b149aaa24",
   "execution_count": 64
  },
  {
   "cell_type": "markdown",
   "source": [
    "put(用给定的值替换数组中指定的元素。)"
   ],
   "metadata": {
    "collapsed": false
   },
   "id": "6b2750533f3bae86"
  },
  {
   "cell_type": "code",
   "outputs": [
    {
     "data": {
      "text/plain": "array([1, 9, 3, 7, 5, 6])"
     },
     "execution_count": 67,
     "metadata": {},
     "output_type": "execute_result"
    }
   ],
   "source": [
    "import numpy as np\n",
    "arr = np.array([1,2,3,4,5,6])\n",
    "#示例1：put(arr,[1,2],[6,7])\n",
    "#示例2：put(arr,[1,3],[9,7])\n",
    "#示例3：put(arr,[2,5],[6,7])\n",
    "np.put(arr,[1,3],[9,7])#(arr,需要替换的索引，替换值）\n",
    "arr"
   ],
   "metadata": {
    "collapsed": false,
    "ExecuteTime": {
     "end_time": "2024-06-15T11:38:14.715158Z",
     "start_time": "2024-06-15T11:38:14.703669Z"
    }
   },
   "id": "a6f72f5e4988f04b",
   "execution_count": 67
  },
  {
   "cell_type": "markdown",
   "source": [
    "copyto(将一个数组的内容复制到另一个数组中。)"
   ],
   "metadata": {
    "collapsed": false
   },
   "id": "7dbac1aaafa6a63"
  },
  {
   "cell_type": "code",
   "outputs": [
    {
     "name": "stdout",
     "output_type": "stream",
     "text": [
      "[4 4 4]\n"
     ]
    }
   ],
   "source": [
    "import numpy as np\n",
    "arr1 = np.array([1,2,3])\n",
    "arr2 = np.array([4,5,6])\n",
    "arr3 = np.array([4,4,4])\n",
    "#示例1：np.copyto(arr1,arr2)\n",
    "#示例2：np.copyto(arr1,arr3)\n",
    "#示例3：np.copyto(arr2,arr1)\n",
    "np.copyto(arr1,arr3)#copyto(目标，来源)\n",
    "print(arr1)"
   ],
   "metadata": {
    "collapsed": false,
    "ExecuteTime": {
     "end_time": "2024-06-15T11:42:47.484629Z",
     "start_time": "2024-06-15T11:42:47.477651Z"
    }
   },
   "id": "101a902736d2e1ee",
   "execution_count": 69
  },
  {
   "cell_type": "code",
   "outputs": [],
   "source": [],
   "metadata": {
    "collapsed": false
   },
   "id": "687b0c881e8daae4"
  }
 ],
 "metadata": {
  "kernelspec": {
   "display_name": "Python 3",
   "language": "python",
   "name": "python3"
  },
  "language_info": {
   "codemirror_mode": {
    "name": "ipython",
    "version": 2
   },
   "file_extension": ".py",
   "mimetype": "text/x-python",
   "name": "python",
   "nbconvert_exporter": "python",
   "pygments_lexer": "ipython2",
   "version": "2.7.6"
  }
 },
 "nbformat": 4,
 "nbformat_minor": 5
}
