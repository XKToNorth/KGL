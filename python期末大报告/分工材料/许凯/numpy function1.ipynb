{
 "cells": [
  {
   "metadata": {},
   "cell_type": "markdown",
   "source": "创建数组",
   "id": "815731f06ae015ea"
  },
  {
   "metadata": {},
   "cell_type": "markdown",
   "source": [
    "1、Array\n",
    "\n",
    "它用于创建一维或多维数组\n",
    "\n",
    "Dtype:生成数组所需的数据类型。\n",
    "\n",
    "ndim:指定生成数组的最小维度数。\n",
    "\n",
    "还可以使用此函数将pandas的df和series转为NumPy数组"
   ],
   "id": "b7c0d7ffcd1e984f"
  },
  {
   "metadata": {
    "ExecuteTime": {
     "end_time": "2024-06-16T09:00:12.523536Z",
     "start_time": "2024-06-16T09:00:12.507741Z"
    }
   },
   "cell_type": "code",
   "source": [
    "#案例一：\n",
    "import numpy as np\n",
    "np.array([1, 2, 3, 4, 5], dtype=int)"
   ],
   "id": "a9a998ed3633e217",
   "outputs": [
    {
     "data": {
      "text/plain": [
       "array([1, 2, 3, 4, 5])"
      ]
     },
     "execution_count": 10,
     "metadata": {},
     "output_type": "execute_result"
    }
   ],
   "execution_count": 10
  },
  {
   "metadata": {
    "ExecuteTime": {
     "end_time": "2024-06-16T08:59:37.008465Z",
     "start_time": "2024-06-16T08:59:36.992838Z"
    }
   },
   "cell_type": "code",
   "source": [
    "#案例二：\n",
    "import numpy as np\n",
    "np.array([[1.1, 2.2, 3.3], [4.4, 5.5, 6.6]], dtype=float)"
   ],
   "id": "7841ddd6ce6d08cb",
   "outputs": [
    {
     "data": {
      "text/plain": [
       "array([[1.1, 2.2, 3.3],\n",
       "       [4.4, 5.5, 6.6]])"
      ]
     },
     "execution_count": 6,
     "metadata": {},
     "output_type": "execute_result"
    }
   ],
   "execution_count": 6
  },
  {
   "metadata": {
    "ExecuteTime": {
     "end_time": "2024-06-16T08:59:40.327808Z",
     "start_time": "2024-06-16T08:59:40.299600Z"
    }
   },
   "cell_type": "code",
   "source": [
    "#案例三：\n",
    "import numpy as np\n",
    "np.array([1, 2, 3, 4, 5], dtype=int, ndmin=2)"
   ],
   "id": "2ec108dc20c8dfd4",
   "outputs": [
    {
     "data": {
      "text/plain": [
       "array([[1, 2, 3, 4, 5]])"
      ]
     },
     "execution_count": 7,
     "metadata": {},
     "output_type": "execute_result"
    }
   ],
   "execution_count": 7
  },
  {
   "metadata": {
    "ExecuteTime": {
     "end_time": "2024-06-16T08:59:52.208443Z",
     "start_time": "2024-06-16T08:59:52.183900Z"
    }
   },
   "cell_type": "code",
   "source": [
    "#案例四：\n",
    "import numpy as np\n",
    "import pandas as pd\n",
    "series = pd.Series([1, 2, 3, 4, 5])\n",
    "np.array(series, dtype=int)"
   ],
   "id": "4325cfed58f94079",
   "outputs": [
    {
     "data": {
      "text/plain": [
       "array([1, 2, 3, 4, 5])"
      ]
     },
     "execution_count": 8,
     "metadata": {},
     "output_type": "execute_result"
    }
   ],
   "execution_count": 8
  },
  {
   "metadata": {
    "ExecuteTime": {
     "end_time": "2024-06-16T09:00:00.827104Z",
     "start_time": "2024-06-16T09:00:00.814480Z"
    }
   },
   "cell_type": "code",
   "source": [
    "#案例五：\n",
    "import numpy as np\n",
    "import pandas as pd\n",
    "sex = pd.Series(['Male','Male','Female'])\n",
    "np.array(sex)"
   ],
   "id": "f0eab48ee0d6835e",
   "outputs": [
    {
     "data": {
      "text/plain": [
       "array(['Male', 'Male', 'Female'], dtype=object)"
      ]
     },
     "execution_count": 9,
     "metadata": {},
     "output_type": "execute_result"
    }
   ],
   "execution_count": 9
  },
  {
   "metadata": {},
   "cell_type": "markdown",
   "source": [
    "2、Linspace\n",
    "\n",
    "创建一个具有指定间隔的浮点数的数组。\n",
    "\n",
    "start:起始数字\n",
    "\n",
    "stop:结束\n",
    "\n",
    "Num:要生成的样本数，默认为50。\n",
    "\n",
    "endpoint：是否包含stop"
   ],
   "id": "611e379656a30e0a"
  },
  {
   "metadata": {
    "ExecuteTime": {
     "end_time": "2024-06-16T09:02:18.432150Z",
     "start_time": "2024-06-16T09:02:18.423674Z"
    }
   },
   "cell_type": "code",
   "source": [
    "#案例一：\n",
    "import numpy as np\n",
    "np.linspace(10,100,10)"
   ],
   "id": "73201d7161d883c8",
   "outputs": [
    {
     "data": {
      "text/plain": [
       "array([ 10.,  20.,  30.,  40.,  50.,  60.,  70.,  80.,  90., 100.])"
      ]
     },
     "execution_count": 11,
     "metadata": {},
     "output_type": "execute_result"
    }
   ],
   "execution_count": 11
  },
  {
   "metadata": {
    "ExecuteTime": {
     "end_time": "2024-06-16T09:02:21.088373Z",
     "start_time": "2024-06-16T09:02:21.073585Z"
    }
   },
   "cell_type": "code",
   "source": [
    "#案例二：\n",
    "import numpy as np\n",
    "np.linspace(start=0, stop=1, num=5)"
   ],
   "id": "d8d82c9884d9f3cd",
   "outputs": [
    {
     "data": {
      "text/plain": [
       "array([0.  , 0.25, 0.5 , 0.75, 1.  ])"
      ]
     },
     "execution_count": 12,
     "metadata": {},
     "output_type": "execute_result"
    }
   ],
   "execution_count": 12
  },
  {
   "metadata": {
    "ExecuteTime": {
     "end_time": "2024-06-16T09:02:21.540074Z",
     "start_time": "2024-06-16T09:02:21.527772Z"
    }
   },
   "cell_type": "code",
   "source": [
    "#案例三：\n",
    "import numpy as np\n",
    "np.linspace(start=0, stop=1, num=5, endpoint=False)"
   ],
   "id": "21c888ddcf6dd3b7",
   "outputs": [
    {
     "data": {
      "text/plain": [
       "array([0. , 0.2, 0.4, 0.6, 0.8])"
      ]
     },
     "execution_count": 13,
     "metadata": {},
     "output_type": "execute_result"
    }
   ],
   "execution_count": 13
  },
  {
   "metadata": {
    "ExecuteTime": {
     "end_time": "2024-06-16T09:02:22.421277Z",
     "start_time": "2024-06-16T09:02:22.407103Z"
    }
   },
   "cell_type": "code",
   "source": [
    "#案例四：\n",
    "import numpy as np\n",
    "np.linspace(start=0, stop=10, num=100)"
   ],
   "id": "8f400ba8a0d1c10d",
   "outputs": [
    {
     "data": {
      "text/plain": [
       "array([ 0.        ,  0.1010101 ,  0.2020202 ,  0.3030303 ,  0.4040404 ,\n",
       "        0.50505051,  0.60606061,  0.70707071,  0.80808081,  0.90909091,\n",
       "        1.01010101,  1.11111111,  1.21212121,  1.31313131,  1.41414141,\n",
       "        1.51515152,  1.61616162,  1.71717172,  1.81818182,  1.91919192,\n",
       "        2.02020202,  2.12121212,  2.22222222,  2.32323232,  2.42424242,\n",
       "        2.52525253,  2.62626263,  2.72727273,  2.82828283,  2.92929293,\n",
       "        3.03030303,  3.13131313,  3.23232323,  3.33333333,  3.43434343,\n",
       "        3.53535354,  3.63636364,  3.73737374,  3.83838384,  3.93939394,\n",
       "        4.04040404,  4.14141414,  4.24242424,  4.34343434,  4.44444444,\n",
       "        4.54545455,  4.64646465,  4.74747475,  4.84848485,  4.94949495,\n",
       "        5.05050505,  5.15151515,  5.25252525,  5.35353535,  5.45454545,\n",
       "        5.55555556,  5.65656566,  5.75757576,  5.85858586,  5.95959596,\n",
       "        6.06060606,  6.16161616,  6.26262626,  6.36363636,  6.46464646,\n",
       "        6.56565657,  6.66666667,  6.76767677,  6.86868687,  6.96969697,\n",
       "        7.07070707,  7.17171717,  7.27272727,  7.37373737,  7.47474747,\n",
       "        7.57575758,  7.67676768,  7.77777778,  7.87878788,  7.97979798,\n",
       "        8.08080808,  8.18181818,  8.28282828,  8.38383838,  8.48484848,\n",
       "        8.58585859,  8.68686869,  8.78787879,  8.88888889,  8.98989899,\n",
       "        9.09090909,  9.19191919,  9.29292929,  9.39393939,  9.49494949,\n",
       "        9.5959596 ,  9.6969697 ,  9.7979798 ,  9.8989899 , 10.        ])"
      ]
     },
     "execution_count": 14,
     "metadata": {},
     "output_type": "execute_result"
    }
   ],
   "execution_count": 14
  },
  {
   "metadata": {
    "ExecuteTime": {
     "end_time": "2024-06-17T03:27:38.599394Z",
     "start_time": "2024-06-17T03:27:38.583662Z"
    }
   },
   "cell_type": "code",
   "source": [
    "#案例五：\n",
    "import numpy as np\n",
    "np.linspace(start=0, stop=5, num=10, dtype=int)"
   ],
   "id": "b72914dc094d1f14",
   "outputs": [
    {
     "data": {
      "text/plain": [
       "array([0, 0, 1, 1, 2, 2, 3, 3, 4, 5])"
      ]
     },
     "execution_count": 5,
     "metadata": {},
     "output_type": "execute_result"
    }
   ],
   "execution_count": 5
  },
  {
   "metadata": {},
   "cell_type": "markdown",
   "source": [
    "3、Arange\n",
    "\n",
    "在给定的间隔内返回具有一定步长的整数。\n",
    "\n",
    "step:数值步长。"
   ],
   "id": "ee5d675f2714fe2d"
  },
  {
   "metadata": {
    "ExecuteTime": {
     "end_time": "2024-06-16T09:04:07.660159Z",
     "start_time": "2024-06-16T09:04:07.649996Z"
    }
   },
   "cell_type": "code",
   "source": [
    "#案例一：\n",
    "import numpy as np\n",
    "np.arange(start=0, stop=10, step=1)"
   ],
   "id": "67e6dacc9730643e",
   "outputs": [
    {
     "data": {
      "text/plain": [
       "array([0, 1, 2, 3, 4, 5, 6, 7, 8, 9])"
      ]
     },
     "execution_count": 18,
     "metadata": {},
     "output_type": "execute_result"
    }
   ],
   "execution_count": 18
  },
  {
   "metadata": {
    "ExecuteTime": {
     "end_time": "2024-06-16T09:04:08.805957Z",
     "start_time": "2024-06-16T09:04:08.792618Z"
    }
   },
   "cell_type": "code",
   "source": [
    "#案例二：\n",
    "import numpy as np\n",
    "np.arange(start=0, stop=10, step=2)"
   ],
   "id": "ca6b1a59b707ae1a",
   "outputs": [
    {
     "data": {
      "text/plain": [
       "array([0, 2, 4, 6, 8])"
      ]
     },
     "execution_count": 19,
     "metadata": {},
     "output_type": "execute_result"
    }
   ],
   "execution_count": 19
  },
  {
   "metadata": {
    "ExecuteTime": {
     "end_time": "2024-06-16T09:04:09.655833Z",
     "start_time": "2024-06-16T09:04:09.638170Z"
    }
   },
   "cell_type": "code",
   "source": [
    "#案例三：\n",
    "import numpy as np\n",
    "np.arange(start=0, stop=5, step=0.5)"
   ],
   "id": "620a9b7a4121881b",
   "outputs": [
    {
     "data": {
      "text/plain": [
       "array([0. , 0.5, 1. , 1.5, 2. , 2.5, 3. , 3.5, 4. , 4.5])"
      ]
     },
     "execution_count": 20,
     "metadata": {},
     "output_type": "execute_result"
    }
   ],
   "execution_count": 20
  },
  {
   "metadata": {
    "ExecuteTime": {
     "end_time": "2024-06-16T09:04:12.381221Z",
     "start_time": "2024-06-16T09:04:12.361445Z"
    }
   },
   "cell_type": "code",
   "source": [
    "#案例四：\n",
    "import numpy as np\n",
    "np.arange(10)"
   ],
   "id": "381a181d12c68124",
   "outputs": [
    {
     "data": {
      "text/plain": [
       "array([0, 1, 2, 3, 4, 5, 6, 7, 8, 9])"
      ]
     },
     "execution_count": 21,
     "metadata": {},
     "output_type": "execute_result"
    }
   ],
   "execution_count": 21
  },
  {
   "metadata": {
    "ExecuteTime": {
     "end_time": "2024-06-17T03:28:31.854316Z",
     "start_time": "2024-06-17T03:28:31.838591Z"
    }
   },
   "cell_type": "code",
   "source": [
    "#案例五：\n",
    "import numpy as np\n",
    "np.arange(start=10, stop=0, step=-1)\n"
   ],
   "id": "c6a5eb5e728fbc89",
   "outputs": [
    {
     "data": {
      "text/plain": [
       "array([10,  9,  8,  7,  6,  5,  4,  3,  2,  1])"
      ]
     },
     "execution_count": 6,
     "metadata": {},
     "output_type": "execute_result"
    }
   ],
   "execution_count": 6
  },
  {
   "metadata": {},
   "cell_type": "markdown",
   "source": [
    "4、Uniform\n",
    "\n",
    "在上下限之间的均匀分布中生成随机浮点样本。"
   ],
   "id": "5f8361a53b84197f"
  },
  {
   "metadata": {
    "ExecuteTime": {
     "end_time": "2024-06-16T09:05:53.010795Z",
     "start_time": "2024-06-16T09:05:52.990335Z"
    }
   },
   "cell_type": "code",
   "source": [
    "#案例一：\n",
    "import numpy as np\n",
    "np.random.uniform(5,10,size = 4)"
   ],
   "id": "83be5ef9202ab0fc",
   "outputs": [
    {
     "data": {
      "text/plain": [
       "array([8.5577744 , 5.50962113, 8.02133   , 5.38917727])"
      ]
     },
     "execution_count": 23,
     "metadata": {},
     "output_type": "execute_result"
    }
   ],
   "execution_count": 23
  },
  {
   "metadata": {
    "ExecuteTime": {
     "end_time": "2024-06-16T09:05:53.893408Z",
     "start_time": "2024-06-16T09:05:53.884788Z"
    }
   },
   "cell_type": "code",
   "source": [
    "#案例二：\n",
    "import numpy as np\n",
    "np.random.uniform(low=0, high=1, size=10)"
   ],
   "id": "c581e86115f67a24",
   "outputs": [
    {
     "data": {
      "text/plain": [
       "array([0.06151951, 0.73939128, 0.90021152, 0.59982478, 0.34932506,\n",
       "       0.77421187, 0.04471531, 0.03242115, 0.50248118, 0.49619498])"
      ]
     },
     "execution_count": 24,
     "metadata": {},
     "output_type": "execute_result"
    }
   ],
   "execution_count": 24
  },
  {
   "metadata": {
    "ExecuteTime": {
     "end_time": "2024-06-16T09:05:54.705535Z",
     "start_time": "2024-06-16T09:05:54.695280Z"
    }
   },
   "cell_type": "code",
   "source": [
    "#案例三：\n",
    "import numpy as np\n",
    "np.random.uniform(low=10, high=20,size=5)"
   ],
   "id": "ecb4924e94ade6bd",
   "outputs": [
    {
     "data": {
      "text/plain": [
       "array([10.12329247, 13.9860093 , 10.23066576, 10.57884951, 17.73032217])"
      ]
     },
     "execution_count": 25,
     "metadata": {},
     "output_type": "execute_result"
    }
   ],
   "execution_count": 25
  },
  {
   "metadata": {
    "ExecuteTime": {
     "end_time": "2024-06-16T09:05:55.193506Z",
     "start_time": "2024-06-16T09:05:55.185248Z"
    }
   },
   "cell_type": "code",
   "source": [
    "#案例四：\n",
    "import numpy as np\n",
    "np.random.uniform(low=0, high=1, size=(2, 3))"
   ],
   "id": "fb3512524775077a",
   "outputs": [
    {
     "data": {
      "text/plain": [
       "array([[0.60606358, 0.16410718, 0.97373444],\n",
       "       [0.27779845, 0.31379895, 0.39769246]])"
      ]
     },
     "execution_count": 26,
     "metadata": {},
     "output_type": "execute_result"
    }
   ],
   "execution_count": 26
  },
  {
   "metadata": {
    "ExecuteTime": {
     "end_time": "2024-06-16T09:05:55.914671Z",
     "start_time": "2024-06-16T09:05:55.898751Z"
    }
   },
   "cell_type": "code",
   "source": [
    "#案例五\n",
    "import numpy as np\n",
    "np.random.uniform(low=0, high=1, size=10).astype(np.float32)"
   ],
   "id": "e285744b3b77290d",
   "outputs": [
    {
     "data": {
      "text/plain": [
       "array([0.31772316, 0.8392374 , 0.06477372, 0.8505104 , 0.7205376 ,\n",
       "       0.41196764, 0.00973955, 0.07904109, 0.46365184, 0.07842513],\n",
       "      dtype=float32)"
      ]
     },
     "execution_count": 27,
     "metadata": {},
     "output_type": "execute_result"
    }
   ],
   "execution_count": 27
  },
  {
   "metadata": {},
   "cell_type": "markdown",
   "source": [
    "5、Random.randint\n",
    "\n",
    "在一个范围内生成n个随机整数样本。"
   ],
   "id": "e0d354ecc8485604"
  },
  {
   "metadata": {
    "ExecuteTime": {
     "end_time": "2024-06-17T03:30:11.854968Z",
     "start_time": "2024-06-17T03:30:11.834137Z"
    }
   },
   "cell_type": "code",
   "source": [
    "#案例一：\n",
    "import numpy as np\n",
    "np.random.randint(low=0, high=10, size=10)"
   ],
   "id": "7f70f34fe70ea848",
   "outputs": [
    {
     "data": {
      "text/plain": [
       "array([5, 7, 5, 4, 5, 2, 6, 6, 3, 3])"
      ]
     },
     "execution_count": 7,
     "metadata": {},
     "output_type": "execute_result"
    }
   ],
   "execution_count": 7
  },
  {
   "metadata": {
    "ExecuteTime": {
     "end_time": "2024-06-16T08:28:24.328349Z",
     "start_time": "2024-06-16T08:28:24.313819Z"
    }
   },
   "cell_type": "code",
   "source": [
    "#案例二：\n",
    "import numpy as np\n",
    "np.random.randint(5,10,10)"
   ],
   "id": "f40f3c04c8bb9e4d",
   "outputs": [
    {
     "data": {
      "text/plain": [
       "array([7, 9, 8, 8, 7, 6, 8, 5, 9, 8])"
      ]
     },
     "execution_count": 36,
     "metadata": {},
     "output_type": "execute_result"
    }
   ],
   "execution_count": 36
  },
  {
   "metadata": {
    "ExecuteTime": {
     "end_time": "2024-06-17T03:30:30.529781Z",
     "start_time": "2024-06-17T03:30:30.514153Z"
    }
   },
   "cell_type": "code",
   "source": [
    "#案例三：\n",
    "import numpy as np\n",
    "np.random.randint(low=10, high=20, size=5)"
   ],
   "id": "5fedfeed0959c44b",
   "outputs": [
    {
     "data": {
      "text/plain": [
       "array([11, 13, 12, 11, 15])"
      ]
     },
     "execution_count": 8,
     "metadata": {},
     "output_type": "execute_result"
    }
   ],
   "execution_count": 8
  },
  {
   "metadata": {
    "ExecuteTime": {
     "end_time": "2024-06-17T03:30:33.222891Z",
     "start_time": "2024-06-17T03:30:33.207267Z"
    }
   },
   "cell_type": "code",
   "source": [
    "#案例四：\n",
    "import numpy as np\n",
    "np.random.randint(low=0, high=10, size=(2, 3))"
   ],
   "id": "ea9ccbabae513e9e",
   "outputs": [
    {
     "data": {
      "text/plain": [
       "array([[0, 5, 5],\n",
       "       [4, 2, 3]])"
      ]
     },
     "execution_count": 9,
     "metadata": {},
     "output_type": "execute_result"
    }
   ],
   "execution_count": 9
  },
  {
   "metadata": {
    "ExecuteTime": {
     "end_time": "2024-06-17T03:30:35.220279Z",
     "start_time": "2024-06-17T03:30:35.204644Z"
    }
   },
   "cell_type": "code",
   "source": [
    "#案例五\n",
    "import numpy as np\n",
    "np.random.randint(low=0, high=100, size=10, dtype=np.int64)"
   ],
   "id": "d13336c054f23ca4",
   "outputs": [
    {
     "data": {
      "text/plain": [
       "array([ 0, 32,  2, 10, 60, 17, 88, 71, 52, 31], dtype=int64)"
      ]
     },
     "execution_count": 10,
     "metadata": {},
     "output_type": "execute_result"
    }
   ],
   "execution_count": 10
  },
  {
   "metadata": {},
   "cell_type": "markdown",
   "source": [
    "6、Random.random\n",
    "\n",
    "生成n个随机浮点数样本。"
   ],
   "id": "e49ec56b964abc57"
  },
  {
   "metadata": {
    "ExecuteTime": {
     "end_time": "2024-06-16T09:08:46.974833Z",
     "start_time": "2024-06-16T09:08:46.959017Z"
    }
   },
   "cell_type": "code",
   "source": [
    "#案例一：\n",
    "import numpy as np\n",
    "np.random.random(3)"
   ],
   "id": "fb3d8a0e5d41c277",
   "outputs": [
    {
     "data": {
      "text/plain": [
       "array([0.12749267, 0.17826973, 0.40211397])"
      ]
     },
     "execution_count": 28,
     "metadata": {},
     "output_type": "execute_result"
    }
   ],
   "execution_count": 28
  },
  {
   "metadata": {
    "ExecuteTime": {
     "end_time": "2024-06-16T09:08:48.151Z",
     "start_time": "2024-06-16T09:08:48.128989Z"
    }
   },
   "cell_type": "code",
   "source": [
    "#案例二：\n",
    "import numpy as np\n",
    "np.random.random(size=10)"
   ],
   "id": "46ceb16dc1dd7b7d",
   "outputs": [
    {
     "data": {
      "text/plain": [
       "array([0.62104209, 0.86023494, 0.05261119, 0.02474002, 0.65003101,\n",
       "       0.98106905, 0.08559897, 0.99616897, 0.21901664, 0.68651523])"
      ]
     },
     "execution_count": 29,
     "metadata": {},
     "output_type": "execute_result"
    }
   ],
   "execution_count": 29
  },
  {
   "metadata": {
    "ExecuteTime": {
     "end_time": "2024-06-16T09:08:48.997095Z",
     "start_time": "2024-06-16T09:08:48.981159Z"
    }
   },
   "cell_type": "code",
   "source": [
    "#案例三：\n",
    "import numpy as np\n",
    "np.random.random(size=(2, 3))"
   ],
   "id": "e67854e64c544c7a",
   "outputs": [
    {
     "data": {
      "text/plain": [
       "array([[0.51310539, 0.08821681, 0.8013598 ],\n",
       "       [0.90180511, 0.34332236, 0.86127284]])"
      ]
     },
     "execution_count": 30,
     "metadata": {},
     "output_type": "execute_result"
    }
   ],
   "execution_count": 30
  },
  {
   "metadata": {
    "ExecuteTime": {
     "end_time": "2024-06-16T09:08:49.924363Z",
     "start_time": "2024-06-16T09:08:49.914340Z"
    }
   },
   "cell_type": "code",
   "source": [
    "#案例四：\n",
    "import numpy as np\n",
    "np.random.random(size=10).astype(np.float32)"
   ],
   "id": "de6f62efcb1d5da9",
   "outputs": [
    {
     "data": {
      "text/plain": [
       "array([0.06677254, 0.92618877, 0.59992415, 0.5458168 , 0.32241404,\n",
       "       0.8853617 , 0.9983558 , 0.33345416, 0.8624311 , 0.85267025],\n",
       "      dtype=float32)"
      ]
     },
     "execution_count": 31,
     "metadata": {},
     "output_type": "execute_result"
    }
   ],
   "execution_count": 31
  },
  {
   "metadata": {
    "ExecuteTime": {
     "end_time": "2024-06-16T09:08:50.777646Z",
     "start_time": "2024-06-16T09:08:50.767459Z"
    }
   },
   "cell_type": "code",
   "source": [
    "#案例五\n",
    "import numpy as np\n",
    "np.random.random(size=(3, 4, 2))"
   ],
   "id": "7366cc600b54cd44",
   "outputs": [
    {
     "data": {
      "text/plain": [
       "array([[[0.02545074, 0.27152338],\n",
       "        [0.72223428, 0.47910145],\n",
       "        [0.72319113, 0.38878473],\n",
       "        [0.59368584, 0.83838974]],\n",
       "\n",
       "       [[0.11169552, 0.92206856],\n",
       "        [0.18117456, 0.06458484],\n",
       "        [0.82555811, 0.44952524],\n",
       "        [0.15008678, 0.70653511]],\n",
       "\n",
       "       [[0.11440089, 0.48686014],\n",
       "        [0.6856027 , 0.00974028],\n",
       "        [0.8560694 , 0.63963227],\n",
       "        [0.57800926, 0.5876622 ]]])"
      ]
     },
     "execution_count": 32,
     "metadata": {},
     "output_type": "execute_result"
    }
   ],
   "execution_count": 32
  },
  {
   "metadata": {},
   "cell_type": "markdown",
   "source": [
    "7、Logspace\n",
    "\n",
    "在对数尺度上生成间隔均匀的数字。\n",
    "\n",
    "Start:序列的起始值。\n",
    "\n",
    "stop:序列的最后一个值。\n",
    "\n",
    "endpoint:如果为True，最后一个样本将包含在序列中。\n",
    "\n",
    "base:底数。默认是10。\n",
    "\n",
    "输出结果：(科学记数：1.e + 02 此格式用指数表示法显示数字，以 E+n 替换部分数字，其中 E（代表指数）表示将前面的数字1乘以 10 的 2 次幂。)"
   ],
   "id": "3ef41221ccd554f7"
  },
  {
   "metadata": {},
   "cell_type": "markdown",
   "source": "",
   "id": "23d2edfb362659ce"
  },
  {
   "metadata": {
    "ExecuteTime": {
     "end_time": "2024-06-16T09:10:09.687015Z",
     "start_time": "2024-06-16T09:10:09.659636Z"
    }
   },
   "cell_type": "code",
   "source": [
    "#案例一：\n",
    "import numpy as np\n",
    "np.logspace(0,10,5,base=2)"
   ],
   "id": "ae5d1aa3a918af39",
   "outputs": [
    {
     "data": {
      "text/plain": [
       "array([1.00000000e+00, 5.65685425e+00, 3.20000000e+01, 1.81019336e+02,\n",
       "       1.02400000e+03])"
      ]
     },
     "execution_count": 33,
     "metadata": {},
     "output_type": "execute_result"
    }
   ],
   "execution_count": 33
  },
  {
   "metadata": {
    "ExecuteTime": {
     "end_time": "2024-06-16T09:10:10.681898Z",
     "start_time": "2024-06-16T09:10:10.668536Z"
    }
   },
   "cell_type": "code",
   "source": [
    "#案例二：\n",
    "import numpy as np\n",
    "np.logspace(start=1, stop=3, num=10, endpoint=False)"
   ],
   "id": "cf37fc7166bdcae0",
   "outputs": [
    {
     "data": {
      "text/plain": [
       "array([ 10.        ,  15.84893192,  25.11886432,  39.81071706,\n",
       "        63.09573445, 100.        , 158.48931925, 251.18864315,\n",
       "       398.10717055, 630.95734448])"
      ]
     },
     "execution_count": 34,
     "metadata": {},
     "output_type": "execute_result"
    }
   ],
   "execution_count": 34
  },
  {
   "metadata": {
    "ExecuteTime": {
     "end_time": "2024-06-16T09:10:11.584116Z",
     "start_time": "2024-06-16T09:10:11.568330Z"
    }
   },
   "cell_type": "code",
   "source": [
    "#案例三：\n",
    "import numpy as np\n",
    "np.logspace(start=1, stop=3, num=10, base=2)"
   ],
   "id": "f66386eb3571ab2a",
   "outputs": [
    {
     "data": {
      "text/plain": [
       "array([2.        , 2.33305808, 2.72158   , 3.1748021 , 3.70349885,\n",
       "       4.32023896, 5.0396842 , 5.87893797, 6.85795186, 8.        ])"
      ]
     },
     "execution_count": 35,
     "metadata": {},
     "output_type": "execute_result"
    }
   ],
   "execution_count": 35
  },
  {
   "metadata": {
    "ExecuteTime": {
     "end_time": "2024-06-16T09:10:12.469260Z",
     "start_time": "2024-06-16T09:10:12.445657Z"
    }
   },
   "cell_type": "code",
   "source": [
    "#案例四：\n",
    "import numpy as np\n",
    "np.logspace(start=0, stop=2, num=5)"
   ],
   "id": "d913efd5840cf185",
   "outputs": [
    {
     "data": {
      "text/plain": [
       "array([  1.        ,   3.16227766,  10.        ,  31.6227766 ,\n",
       "       100.        ])"
      ]
     },
     "execution_count": 36,
     "metadata": {},
     "output_type": "execute_result"
    }
   ],
   "execution_count": 36
  },
  {
   "metadata": {
    "ExecuteTime": {
     "end_time": "2024-06-16T09:10:13.609992Z",
     "start_time": "2024-06-16T09:10:13.600293Z"
    }
   },
   "cell_type": "code",
   "source": [
    "#案例五\n",
    "import numpy as np\n",
    "np.logspace(start=1, stop=3, num=9).reshape((3, 3))"
   ],
   "id": "522b044dac98f9d8",
   "outputs": [
    {
     "data": {
      "text/plain": [
       "array([[  10.        ,   17.7827941 ,   31.6227766 ],\n",
       "       [  56.23413252,  100.        ,  177.827941  ],\n",
       "       [ 316.22776602,  562.34132519, 1000.        ]])"
      ]
     },
     "execution_count": 37,
     "metadata": {},
     "output_type": "execute_result"
    }
   ],
   "execution_count": 37
  },
  {
   "metadata": {},
   "cell_type": "markdown",
   "source": [
    "8、zeroes\n",
    "\n",
    "np.zeroes会创建一个全部为0的数组。\n",
    "\n",
    "shape:阵列的形状。\n",
    "\n",
    "Dtype:生成数组所需的数据类型。' int '或默认' float '"
   ],
   "id": "7207a86916254b5c"
  },
  {
   "metadata": {
    "ExecuteTime": {
     "end_time": "2024-06-16T09:11:23.360754Z",
     "start_time": "2024-06-16T09:11:23.348629Z"
    }
   },
   "cell_type": "code",
   "source": [
    "#案例一：\n",
    "import numpy as np\n",
    "np.zeros(5)"
   ],
   "id": "70db4cb23061fc2a",
   "outputs": [
    {
     "data": {
      "text/plain": [
       "array([0., 0., 0., 0., 0.])"
      ]
     },
     "execution_count": 38,
     "metadata": {},
     "output_type": "execute_result"
    }
   ],
   "execution_count": 38
  },
  {
   "metadata": {
    "ExecuteTime": {
     "end_time": "2024-06-16T09:11:24.050895Z",
     "start_time": "2024-06-16T09:11:24.035270Z"
    }
   },
   "cell_type": "code",
   "source": [
    "#案例二：\n",
    "import numpy as np\n",
    "np.zeros((2,3),dtype='int')"
   ],
   "id": "4499bbe0010fd5e1",
   "outputs": [
    {
     "data": {
      "text/plain": [
       "array([[0, 0, 0],\n",
       "       [0, 0, 0]])"
      ]
     },
     "execution_count": 39,
     "metadata": {},
     "output_type": "execute_result"
    }
   ],
   "execution_count": 39
  },
  {
   "metadata": {
    "ExecuteTime": {
     "end_time": "2024-06-16T09:11:24.908679Z",
     "start_time": "2024-06-16T09:11:24.894883Z"
    }
   },
   "cell_type": "code",
   "source": [
    "#案例三：\n",
    "import numpy as np\n",
    "np.zeros(shape=(2, 3, 4))"
   ],
   "id": "110db85c43f713eb",
   "outputs": [
    {
     "data": {
      "text/plain": [
       "array([[[0., 0., 0., 0.],\n",
       "        [0., 0., 0., 0.],\n",
       "        [0., 0., 0., 0.]],\n",
       "\n",
       "       [[0., 0., 0., 0.],\n",
       "        [0., 0., 0., 0.],\n",
       "        [0., 0., 0., 0.]]])"
      ]
     },
     "execution_count": 40,
     "metadata": {},
     "output_type": "execute_result"
    }
   ],
   "execution_count": 40
  },
  {
   "metadata": {
    "ExecuteTime": {
     "end_time": "2024-06-16T09:11:25.676160Z",
     "start_time": "2024-06-16T09:11:25.666154Z"
    }
   },
   "cell_type": "code",
   "source": [
    "#案例四：\n",
    "import numpy as np\n",
    "np.zeros(shape=5, dtype=int)"
   ],
   "id": "10c96eb28f769451",
   "outputs": [
    {
     "data": {
      "text/plain": [
       "array([0, 0, 0, 0, 0])"
      ]
     },
     "execution_count": 41,
     "metadata": {},
     "output_type": "execute_result"
    }
   ],
   "execution_count": 41
  },
  {
   "metadata": {
    "ExecuteTime": {
     "end_time": "2024-06-16T09:11:26.532327Z",
     "start_time": "2024-06-16T09:11:26.522953Z"
    }
   },
   "cell_type": "code",
   "source": [
    "#案例五：\n",
    "import numpy as np\n",
    "np.zeros(shape=(2, 2, 2, 2))"
   ],
   "id": "2c5b91359af04420",
   "outputs": [
    {
     "data": {
      "text/plain": [
       "array([[[[0., 0.],\n",
       "         [0., 0.]],\n",
       "\n",
       "        [[0., 0.],\n",
       "         [0., 0.]]],\n",
       "\n",
       "\n",
       "       [[[0., 0.],\n",
       "         [0., 0.]],\n",
       "\n",
       "        [[0., 0.],\n",
       "         [0., 0.]]]])"
      ]
     },
     "execution_count": 42,
     "metadata": {},
     "output_type": "execute_result"
    }
   ],
   "execution_count": 42
  },
  {
   "metadata": {},
   "cell_type": "markdown",
   "source": [
    "9、ones\n",
    "\n",
    "np.ones函数创建一个全部为1的数组。"
   ],
   "id": "ea692c4cc336d43f"
  },
  {
   "metadata": {},
   "cell_type": "code",
   "outputs": [],
   "execution_count": null,
   "source": [
    "#案例一：\n",
    "import numpy as np\n",
    "np.ones(shape=5)"
   ],
   "id": "200a12dbf74821c2"
  },
  {
   "metadata": {
    "ExecuteTime": {
     "end_time": "2024-06-16T08:35:45.715468Z",
     "start_time": "2024-06-16T08:35:45.699392Z"
    }
   },
   "cell_type": "code",
   "source": [
    "#案例二：\n",
    "import numpy as np\n",
    "np.ones(shape=(2, 3))"
   ],
   "id": "d013ea656465422d",
   "outputs": [],
   "execution_count": 47
  },
  {
   "metadata": {
    "ExecuteTime": {
     "end_time": "2024-06-16T08:35:47.520977Z",
     "start_time": "2024-06-16T08:35:47.504900Z"
    }
   },
   "cell_type": "code",
   "source": [
    "#案例三：\n",
    "import numpy as np\n",
    "np.ones(shape=(2, 3, 4))"
   ],
   "id": "2bebdc894a68254",
   "outputs": [],
   "execution_count": 47
  },
  {
   "metadata": {
    "ExecuteTime": {
     "end_time": "2024-06-16T08:35:48.898702Z",
     "start_time": "2024-06-16T08:35:48.882678Z"
    }
   },
   "cell_type": "code",
   "source": [
    "#案例四：\n",
    "import numpy as np\n",
    "np.ones(shape=5, dtype=int)"
   ],
   "id": "3491036e1083003c",
   "outputs": [],
   "execution_count": 47
  },
  {
   "metadata": {
    "ExecuteTime": {
     "end_time": "2024-06-16T08:35:50.289544Z",
     "start_time": "2024-06-16T08:35:50.281536Z"
    }
   },
   "cell_type": "code",
   "source": [
    "#案例五\n",
    "import numpy as np\n",
    "np.ones(shape=(2, 2, 2, 2))"
   ],
   "id": "221649b51fca5c50",
   "outputs": [],
   "execution_count": 47
  },
  {
   "metadata": {},
   "cell_type": "markdown",
   "source": [
    "10、full\n",
    "\n",
    "创建一个单独值的n维数组。\n",
    "\n",
    "fill_value:填充值。"
   ],
   "id": "48897726b44ab94a"
  },
  {
   "metadata": {
    "ExecuteTime": {
     "end_time": "2024-06-16T09:14:04.264989Z",
     "start_time": "2024-06-16T09:14:04.249269Z"
    }
   },
   "cell_type": "code",
   "source": [
    "#案例一：\n",
    "import numpy as np\n",
    "np.full(shape=5, fill_value=7)"
   ],
   "id": "6c79d4bfa53dd6c8",
   "outputs": [
    {
     "data": {
      "text/plain": [
       "array([7, 7, 7, 7, 7])"
      ]
     },
     "execution_count": 43,
     "metadata": {},
     "output_type": "execute_result"
    }
   ],
   "execution_count": 43
  },
  {
   "metadata": {
    "ExecuteTime": {
     "end_time": "2024-06-16T09:14:04.843365Z",
     "start_time": "2024-06-16T09:14:04.831352Z"
    }
   },
   "cell_type": "code",
   "source": [
    "#案例二：\n",
    "import numpy as np\n",
    "np.full(shape=(2, 3), fill_value=9.5)"
   ],
   "id": "31ab41405b162b4c",
   "outputs": [
    {
     "data": {
      "text/plain": [
       "array([[9.5, 9.5, 9.5],\n",
       "       [9.5, 9.5, 9.5]])"
      ]
     },
     "execution_count": 44,
     "metadata": {},
     "output_type": "execute_result"
    }
   ],
   "execution_count": 44
  },
  {
   "metadata": {
    "ExecuteTime": {
     "end_time": "2024-06-16T09:14:05.397097Z",
     "start_time": "2024-06-16T09:14:05.381377Z"
    }
   },
   "cell_type": "code",
   "source": [
    "#案例三：\n",
    "import numpy as np\n",
    "np.full(shape=(2, 2), fill_value=5, dtype=int)"
   ],
   "id": "fe0ef31c2574a64b",
   "outputs": [
    {
     "data": {
      "text/plain": [
       "array([[5, 5],\n",
       "       [5, 5]])"
      ]
     },
     "execution_count": 45,
     "metadata": {},
     "output_type": "execute_result"
    }
   ],
   "execution_count": 45
  },
  {
   "metadata": {
    "ExecuteTime": {
     "end_time": "2024-06-16T09:14:06.149092Z",
     "start_time": "2024-06-16T09:14:06.133629Z"
    }
   },
   "cell_type": "code",
   "source": [
    "#案例四：\n",
    "import numpy as np\n",
    "np.full(shape=(2, 3, 4), fill_value=0.1)"
   ],
   "id": "f66c4302b45ca366",
   "outputs": [
    {
     "data": {
      "text/plain": [
       "array([[[0.1, 0.1, 0.1, 0.1],\n",
       "        [0.1, 0.1, 0.1, 0.1],\n",
       "        [0.1, 0.1, 0.1, 0.1]],\n",
       "\n",
       "       [[0.1, 0.1, 0.1, 0.1],\n",
       "        [0.1, 0.1, 0.1, 0.1],\n",
       "        [0.1, 0.1, 0.1, 0.1]]])"
      ]
     },
     "execution_count": 46,
     "metadata": {},
     "output_type": "execute_result"
    }
   ],
   "execution_count": 46
  },
  {
   "metadata": {
    "ExecuteTime": {
     "end_time": "2024-06-16T09:14:06.686443Z",
     "start_time": "2024-06-16T09:14:06.670786Z"
    }
   },
   "cell_type": "code",
   "source": [
    "#案例五\n",
    "import numpy as np\n",
    "np.full(shape=(2, 2, 2, 2), fill_value=3.14, dtype=np.float32)"
   ],
   "id": "aa1cf8256b80bbe2",
   "outputs": [
    {
     "data": {
      "text/plain": [
       "array([[[[3.14, 3.14],\n",
       "         [3.14, 3.14]],\n",
       "\n",
       "        [[3.14, 3.14],\n",
       "         [3.14, 3.14]]],\n",
       "\n",
       "\n",
       "       [[[3.14, 3.14],\n",
       "         [3.14, 3.14]],\n",
       "\n",
       "        [[3.14, 3.14],\n",
       "         [3.14, 3.14]]]], dtype=float32)"
      ]
     },
     "execution_count": 47,
     "metadata": {},
     "output_type": "execute_result"
    }
   ],
   "execution_count": 47
  },
  {
   "metadata": {},
   "cell_type": "markdown",
   "source": [
    "11、Identity\n",
    "\n",
    "创建具有指定维度的单位矩阵。"
   ],
   "id": "b3d593ba46c87211"
  },
  {
   "metadata": {
    "ExecuteTime": {
     "end_time": "2024-06-16T09:15:53.357520Z",
     "start_time": "2024-06-16T09:15:53.341795Z"
    }
   },
   "cell_type": "code",
   "source": [
    "#案例一：\n",
    "import numpy as np\n",
    "np.identity(3)"
   ],
   "id": "43ae61e08e2ca2ed",
   "outputs": [
    {
     "data": {
      "text/plain": [
       "array([[1., 0., 0.],\n",
       "       [0., 1., 0.],\n",
       "       [0., 0., 1.]])"
      ]
     },
     "execution_count": 50,
     "metadata": {},
     "output_type": "execute_result"
    }
   ],
   "execution_count": 50
  },
  {
   "metadata": {
    "ExecuteTime": {
     "end_time": "2024-06-16T09:15:54.215480Z",
     "start_time": "2024-06-16T09:15:54.200354Z"
    }
   },
   "cell_type": "code",
   "source": [
    "#案例二：\n",
    "import numpy as np\n",
    "np.identity(4)"
   ],
   "id": "c2f9fb0d3ae25b32",
   "outputs": [
    {
     "data": {
      "text/plain": [
       "array([[1., 0., 0., 0.],\n",
       "       [0., 1., 0., 0.],\n",
       "       [0., 0., 1., 0.],\n",
       "       [0., 0., 0., 1.]])"
      ]
     },
     "execution_count": 51,
     "metadata": {},
     "output_type": "execute_result"
    }
   ],
   "execution_count": 51
  },
  {
   "metadata": {
    "ExecuteTime": {
     "end_time": "2024-06-16T09:15:55.693550Z",
     "start_time": "2024-06-16T09:15:55.677923Z"
    }
   },
   "cell_type": "code",
   "source": [
    "#案例三：\n",
    "import numpy as np\n",
    "np.identity(5)"
   ],
   "id": "29d1423653acc07d",
   "outputs": [
    {
     "data": {
      "text/plain": [
       "array([[1., 0., 0., 0., 0.],\n",
       "       [0., 1., 0., 0., 0.],\n",
       "       [0., 0., 1., 0., 0.],\n",
       "       [0., 0., 0., 1., 0.],\n",
       "       [0., 0., 0., 0., 1.]])"
      ]
     },
     "execution_count": 52,
     "metadata": {},
     "output_type": "execute_result"
    }
   ],
   "execution_count": 52
  },
  {
   "metadata": {
    "ExecuteTime": {
     "end_time": "2024-06-16T09:15:57.276972Z",
     "start_time": "2024-06-16T09:15:57.261318Z"
    }
   },
   "cell_type": "code",
   "source": [
    "#案例四：\n",
    "import numpy as np\n",
    "np.identity(5, dtype=int)"
   ],
   "id": "69b1a28e922b591",
   "outputs": [
    {
     "data": {
      "text/plain": [
       "array([[1, 0, 0, 0, 0],\n",
       "       [0, 1, 0, 0, 0],\n",
       "       [0, 0, 1, 0, 0],\n",
       "       [0, 0, 0, 1, 0],\n",
       "       [0, 0, 0, 0, 1]])"
      ]
     },
     "execution_count": 53,
     "metadata": {},
     "output_type": "execute_result"
    }
   ],
   "execution_count": 53
  },
  {
   "metadata": {
    "ExecuteTime": {
     "end_time": "2024-06-16T09:15:58.872800Z",
     "start_time": "2024-06-16T09:15:58.857092Z"
    }
   },
   "cell_type": "code",
   "source": [
    "#案例五\n",
    "import numpy as np\n",
    "np.eye(3, dtype=int)"
   ],
   "id": "b7faf30abfb6ec33",
   "outputs": [
    {
     "data": {
      "text/plain": [
       "array([[1, 0, 0],\n",
       "       [0, 1, 0],\n",
       "       [0, 0, 1]])"
      ]
     },
     "execution_count": 54,
     "metadata": {},
     "output_type": "execute_result"
    }
   ],
   "execution_count": 54
  },
  {
   "metadata": {},
   "cell_type": "markdown",
   "source": "数组打印",
   "id": "70f5c4366eb9b768"
  },
  {
   "metadata": {},
   "cell_type": "markdown",
   "source": "12、显示带有两个十进制值的浮点数",
   "id": "f88c6d7d98cef230"
  },
  {
   "metadata": {
    "ExecuteTime": {
     "end_time": "2024-06-16T09:17:52.609670Z",
     "start_time": "2024-06-16T09:17:52.593931Z"
    }
   },
   "cell_type": "code",
   "source": [
    "#案例一：\n",
    "import numpy as np\n",
    "np.array([2.71828, 1.61803], dtype=np.float64)"
   ],
   "id": "15a9a56a57e398f6",
   "outputs": [
    {
     "data": {
      "text/plain": [
       "array([2.71828, 1.61803])"
      ]
     },
     "execution_count": 55,
     "metadata": {},
     "output_type": "execute_result"
    }
   ],
   "execution_count": 55
  },
  {
   "metadata": {
    "ExecuteTime": {
     "end_time": "2024-06-16T09:18:09.895417Z",
     "start_time": "2024-06-16T09:18:09.879883Z"
    }
   },
   "cell_type": "code",
   "source": [
    "#案例二：\n",
    "import numpy as np\n",
    "np.float64(3.1415926)"
   ],
   "id": "83cea85846810e8c",
   "outputs": [
    {
     "data": {
      "text/plain": [
       "3.14159"
      ]
     },
     "execution_count": 56,
     "metadata": {},
     "output_type": "execute_result"
    }
   ],
   "execution_count": 56
  },
  {
   "metadata": {
    "ExecuteTime": {
     "end_time": "2024-06-16T09:19:07.998704Z",
     "start_time": "2024-06-16T09:19:07.988781Z"
    }
   },
   "cell_type": "code",
   "source": [
    "#案例三：\n",
    "import numpy as np\n",
    "np.set_printoptions(precision=2)\n",
    "np.array([12.23456,32.34535])"
   ],
   "id": "ace016f5eaff7c28",
   "outputs": [
    {
     "data": {
      "text/plain": [
       "array([12.23, 32.35])"
      ]
     },
     "execution_count": 57,
     "metadata": {},
     "output_type": "execute_result"
    }
   ],
   "execution_count": 57
  },
  {
   "metadata": {
    "ExecuteTime": {
     "end_time": "2024-06-16T09:19:53.495226Z",
     "start_time": "2024-06-16T09:19:53.472770Z"
    }
   },
   "cell_type": "code",
   "source": [
    "#案例四：\n",
    "import numpy as np\n",
    "np.array([123.456, 789.012], dtype=np.float64)"
   ],
   "id": "e3665d10f7a57bca",
   "outputs": [
    {
     "data": {
      "text/plain": [
       "array([123.46, 789.01])"
      ]
     },
     "execution_count": 58,
     "metadata": {},
     "output_type": "execute_result"
    }
   ],
   "execution_count": 58
  },
  {
   "metadata": {
    "ExecuteTime": {
     "end_time": "2024-06-16T09:19:57.282340Z",
     "start_time": "2024-06-16T09:19:57.250888Z"
    }
   },
   "cell_type": "code",
   "source": [
    "#案例五\n",
    "import numpy as np\n",
    "np.float64(42.195)"
   ],
   "id": "9adc68cfa061eee",
   "outputs": [
    {
     "data": {
      "text/plain": [
       "42.195"
      ]
     },
     "execution_count": 59,
     "metadata": {},
     "output_type": "execute_result"
    }
   ],
   "execution_count": 59
  },
  {
   "metadata": {},
   "cell_type": "markdown",
   "source": [
    "13、设置打印数组最大值\n",
    "\n",
    "1.precision：控制输出结果的精度(即小数点后的位数)，默认值为8\n",
    "\n",
    "2.threshold：当数组元素总数过大时，设置显示的数字位数，其余用省略号代替(当数组元素总数大于设置值，控制输出值得个数为6个，当数组元素小于或者等于设置值得时候，全部显示)，当设置值为sys.maxsize(需要导入sys库)，则会输出所有元素\n",
    "\n",
    "3.linewidth：每行字符的数目，其余的数值会换到下一行\n",
    "\n",
    "4.suppress：小数是否需要以科学计数法的形式输出\n",
    "\n",
    "5.formatter：自定义输出规则\n"
   ],
   "id": "b33ab7b9513e1c89"
  },
  {
   "metadata": {
    "ExecuteTime": {
     "end_time": "2024-06-17T03:46:53.710043Z",
     "start_time": "2024-06-17T03:46:53.692186Z"
    }
   },
   "cell_type": "code",
   "source": [
    "#案例一：\n",
    "import numpy as np\n",
    "large_array=np.arange(1000)\n",
    "np.set_printoptions(threshold=10)\n",
    "print(large_array)"
   ],
   "id": "3926c55c57c381dd",
   "outputs": [
    {
     "name": "stdout",
     "output_type": "stream",
     "text": [
      "[  0   1   2 ... 997 998 999]\n"
     ]
    }
   ],
   "execution_count": 16
  },
  {
   "metadata": {
    "ExecuteTime": {
     "end_time": "2024-06-17T03:43:40.166780Z",
     "start_time": "2024-06-17T03:43:40.151127Z"
    }
   },
   "cell_type": "code",
   "source": [
    "#案例二：\n",
    "import numpy as np\n",
    "large_array1=np.random.rand(20, 20)\n",
    "np.set_printoptions(threshold=50)\n",
    "print(large_array1)"
   ],
   "id": "c5254e9531a8beea",
   "outputs": [
    {
     "name": "stdout",
     "output_type": "stream",
     "text": [
      "[[0.67108346 0.25321803 0.23436241 ... 0.69589533 0.65479413 0.99400431]\n",
      " [0.93953996 0.77738851 0.60642363 ... 0.52866966 0.20957357 0.56593268]\n",
      " [0.91531092 0.76734211 0.25919655 ... 0.12614619 0.45589702 0.36855938]\n",
      " ...\n",
      " [0.94876455 0.5125252  0.06527825 ... 0.17306328 0.1641852  0.4652182 ]\n",
      " [0.99469201 0.23390469 0.52118314 ... 0.81617045 0.80827711 0.11088867]\n",
      " [0.85952212 0.48016947 0.48398149 ... 0.30400677 0.7326576  0.46003656]]\n"
     ]
    }
   ],
   "execution_count": 12
  },
  {
   "metadata": {
    "ExecuteTime": {
     "end_time": "2024-06-16T09:23:59.773260Z",
     "start_time": "2024-06-16T09:23:59.757637Z"
    }
   },
   "cell_type": "code",
   "source": [
    "#案例三：\n",
    "import numpy as np\n",
    "large_array = np.arange(100)\n",
    "np.set_printoptions(threshold=100)\n",
    "print(large_array)"
   ],
   "id": "52443aad108f8334",
   "outputs": [
    {
     "name": "stdout",
     "output_type": "stream",
     "text": [
      "[ 0  1  2  3  4  5  6  7  8  9 10 11 12 13 14 15 16 17 18 19 20 21 22 23\n",
      " 24 25 26 27 28 29 30 31 32 33 34 35 36 37 38 39 40 41 42 43 44 45 46 47\n",
      " 48 49 50 51 52 53 54 55 56 57 58 59 60 61 62 63 64 65 66 67 68 69 70 71\n",
      " 72 73 74 75 76 77 78 79 80 81 82 83 84 85 86 87 88 89 90 91 92 93 94 95\n",
      " 96 97 98 99]\n"
     ]
    }
   ],
   "execution_count": 65
  },
  {
   "metadata": {
    "ExecuteTime": {
     "end_time": "2024-06-16T09:24:00.411286Z",
     "start_time": "2024-06-16T09:24:00.395659Z"
    }
   },
   "cell_type": "code",
   "source": [
    "#案例四：\n",
    "import numpy as np\n",
    "large_array = np.random.rand(20, 20)\n",
    "np.set_printoptions(threshold=50, precision=4)\n",
    "print(large_array)"
   ],
   "id": "4ff42427162e8d02",
   "outputs": [
    {
     "name": "stdout",
     "output_type": "stream",
     "text": [
      "[[0.8232 0.1533 0.4216 ... 0.5875 0.5037 0.9042]\n",
      " [0.2687 0.7628 0.4534 ... 0.8324 0.384  0.8905]\n",
      " [0.0715 0.274  0.3722 ... 0.4269 0.1951 0.0873]\n",
      " ...\n",
      " [0.8781 0.2176 0.0795 ... 0.0511 0.3847 0.0407]\n",
      " [0.0053 0.7786 0.591  ... 0.3293 0.4868 0.0927]\n",
      " [0.7238 0.4175 0.2369 ... 0.2476 0.293  0.9834]]\n"
     ]
    }
   ],
   "execution_count": 66
  },
  {
   "metadata": {
    "ExecuteTime": {
     "end_time": "2024-06-16T09:24:01.182913Z",
     "start_time": "2024-06-16T09:24:01.167258Z"
    }
   },
   "cell_type": "code",
   "source": [
    "#案例五\n",
    "import numpy as np\n",
    "large_array = np.random.rand(10, 10)\n",
    "np.set_printoptions(threshold=5, linewidth=100)\n",
    "print(large_array)"
   ],
   "id": "7990cbab15f97af1",
   "outputs": [
    {
     "name": "stdout",
     "output_type": "stream",
     "text": [
      "[[0.2015 0.3529 0.743  ... 0.0449 0.5527 0.7161]\n",
      " [0.2769 0.6233 0.3702 ... 0.4737 0.5652 0.4154]\n",
      " [0.8395 0.293  0.3147 ... 0.5817 0.4395 0.8705]\n",
      " ...\n",
      " [0.1866 0.1001 0.7026 ... 0.3649 0.3171 0.5424]\n",
      " [0.6822 0.2524 0.1664 ... 0.5014 0.5889 0.8025]\n",
      " [0.3722 0.917  0.653  ... 0.7326 0.8024 0.4639]]\n"
     ]
    }
   ],
   "execution_count": 67
  },
  {
   "metadata": {},
   "cell_type": "markdown",
   "source": "14、数组简单操作",
   "id": "72fd5203c492e31f"
  },
  {
   "metadata": {
    "ExecuteTime": {
     "end_time": "2024-06-17T03:48:36.384718Z",
     "start_time": "2024-06-17T03:48:36.368996Z"
    }
   },
   "cell_type": "code",
   "source": [
    "#案例一：\n",
    "import numpy as np\n",
    "original_array = np.array([[1, 2, 3]])\n",
    "resized_array = np.resize(original_array, (2, 5))\n",
    "print(\"原始数组:\")\n",
    "print(original_array)\n",
    "print(\"调整后的数组:\")\n",
    "print(resized_array)"
   ],
   "id": "26d3ad78c31ff7d9",
   "outputs": [
    {
     "name": "stdout",
     "output_type": "stream",
     "text": [
      "原始数组:\n",
      "[[1 2 3]]\n",
      "调整后的数组:\n",
      "[[1 2 3 1 2]\n",
      " [3 1 2 3 1]]\n"
     ]
    }
   ],
   "execution_count": 17
  },
  {
   "metadata": {
    "ExecuteTime": {
     "end_time": "2024-06-17T03:48:39.493220Z",
     "start_time": "2024-06-17T03:48:39.477656Z"
    }
   },
   "cell_type": "code",
   "source": [
    "#案例二：\n",
    "import numpy as np\n",
    "original_array = np.array([[1, 2, 3]])\n",
    "new_array = np.zeros_like(original_array)\n",
    "new_array[0, :] = original_array\n",
    "print(\"原始数组:\")\n",
    "print(original_array)\n",
    "print(\"新数组:\")\n",
    "print(new_array)"
   ],
   "id": "5dea5fa218271543",
   "outputs": [
    {
     "name": "stdout",
     "output_type": "stream",
     "text": [
      "原始数组:\n",
      "[[1 2 3]]\n",
      "新数组:\n",
      "[[1 2 3]]\n"
     ]
    }
   ],
   "execution_count": 18
  },
  {
   "metadata": {
    "ExecuteTime": {
     "end_time": "2024-06-16T09:26:46.169930Z",
     "start_time": "2024-06-16T09:26:46.138653Z"
    }
   },
   "cell_type": "code",
   "source": [
    "#案例三：\n",
    "import numpy as np\n",
    "original_array = np.array([[1, 2, 3]])\n",
    "new_row = np.array([[4, 5, 6]])\n",
    "concatenated_array = np.concatenate((original_array, new_row), axis=0)\n",
    "print(\"原始数组:\")\n",
    "print(original_array)\n",
    "print(\"连接后的数组:\")\n",
    "print(concatenated_array)"
   ],
   "id": "c38dd19745bd4bad",
   "outputs": [
    {
     "name": "stdout",
     "output_type": "stream",
     "text": [
      "原始数组:\n",
      "[[1 2 3]]\n",
      "连接后的数组:\n",
      "[[1 2 3]\n",
      " [4 5 6]]\n"
     ]
    }
   ],
   "execution_count": 70
  },
  {
   "metadata": {
    "ExecuteTime": {
     "end_time": "2024-06-16T09:26:48.125511Z",
     "start_time": "2024-06-16T09:26:48.094128Z"
    }
   },
   "cell_type": "code",
   "source": [
    "#案例四：\n",
    "import numpy as np\n",
    "original_array = np.array([[1, 2, 3]])\n",
    "padded_array = np.pad(original_array, ((0, 1), (0, 0)), mode='constant', constant_values=0)\n",
    "print(\"原始数组:\")\n",
    "print(original_array)\n",
    "print(\"填充后的数组:\")\n",
    "print(padded_array)"
   ],
   "id": "b1f98ea0fa325fa5",
   "outputs": [
    {
     "name": "stdout",
     "output_type": "stream",
     "text": [
      "原始数组:\n",
      "[[1 2 3]]\n",
      "填充后的数组:\n",
      "[[1 2 3]\n",
      " [0 0 0]]\n"
     ]
    }
   ],
   "execution_count": 71
  },
  {
   "metadata": {
    "ExecuteTime": {
     "end_time": "2024-06-16T09:26:49.071047Z",
     "start_time": "2024-06-16T09:26:49.055081Z"
    }
   },
   "cell_type": "code",
   "source": [
    "#案例五\n",
    "import numpy as np\n",
    "original_array = np.array([[1, 2, 3]])\n",
    "new_row = np.array([4, 5, 6])\n",
    "extended_array = np.array([np.append(row, new_row) for row in original_array])\n",
    "print(\"原始数组:\")\n",
    "print(original_array)\n",
    "print(\"扩展后的数组:\")\n",
    "print(extended_array)"
   ],
   "id": "fd752f4ca369030c",
   "outputs": [
    {
     "name": "stdout",
     "output_type": "stream",
     "text": [
      "原始数组:\n",
      "[[1 2 3]]\n",
      "扩展后的数组:\n",
      "[[1 2 3 4 5 6]]\n"
     ]
    }
   ],
   "execution_count": 72
  },
  {
   "metadata": {},
   "cell_type": "markdown",
   "source": "保存和加载数据",
   "id": "c6931109e7bac048"
  },
  {
   "metadata": {},
   "cell_type": "markdown",
   "source": "15、保存",
   "id": "6fc010c1dc71e79d"
  },
  {
   "metadata": {
    "ExecuteTime": {
     "end_time": "2024-06-17T03:55:08.024354Z",
     "start_time": "2024-06-17T03:55:08.008668Z"
    }
   },
   "cell_type": "code",
   "source": [
    "#案例一：\n",
    "import numpy as np\n",
    "original_array = np.array([[1, 2, 3]])\n",
    "resized_array = np.resize(original_array, (2, 5))\n",
    "np.save('resized_array.npy', resized_array)"
   ],
   "id": "7135914eda5fc908",
   "outputs": [],
   "execution_count": 20
  },
  {
   "metadata": {
    "ExecuteTime": {
     "end_time": "2024-06-16T09:32:02.890858Z",
     "start_time": "2024-06-16T09:32:02.875123Z"
    }
   },
   "cell_type": "code",
   "source": [
    "#案例二：\n",
    "import numpy as np\n",
    "original_array = np.array([[1, 2, 3]])\n",
    "new_row = np.array([4, 5, 6])\n",
    "extended_array = np.array([np.append(row, new_row) for row in original_array])\n",
    "np.savetxt('extended_array.txt', extended_array, fmt='%d', delimiter='')"
   ],
   "id": "4df9c931c1385454",
   "outputs": [],
   "execution_count": 74
  },
  {
   "metadata": {
    "ExecuteTime": {
     "end_time": "2024-06-16T09:32:03.783343Z",
     "start_time": "2024-06-16T09:32:03.767717Z"
    }
   },
   "cell_type": "code",
   "source": [
    "#案例三：\n",
    "import numpy as np\n",
    "original_array = np.array([[1, 2, 3],[4, 5, 6]])\n",
    "resized_array = np.resize(original_array, (3, 4))\n",
    "np.save('resized_array.npy', resized_array)"
   ],
   "id": "63917d2e9d62d09f",
   "outputs": [],
   "execution_count": 75
  },
  {
   "metadata": {
    "ExecuteTime": {
     "end_time": "2024-06-16T09:32:05.167868Z",
     "start_time": "2024-06-16T09:32:05.152733Z"
    }
   },
   "cell_type": "code",
   "source": [
    "#案例四：\n",
    "import numpy as np\n",
    "float_array = np.array([[1.234, 2.345, 3.456],[4.567, 5.678, 6.789]])\n",
    "np.savetxt('float_array.txt', float_array, fmt='%.2f', delimiter='')"
   ],
   "id": "1272b807ce1833a0",
   "outputs": [],
   "execution_count": 76
  },
  {
   "metadata": {
    "ExecuteTime": {
     "end_time": "2024-06-16T09:32:06.024796Z",
     "start_time": "2024-06-16T09:32:06.009170Z"
    }
   },
   "cell_type": "code",
   "source": [
    "#案例五\n",
    "import numpy as np\n",
    "array1 = np.array([1, 2, 3])\n",
    "array2 = np.array([[4, 5, 6],[7, 8, 9]])\n",
    "np.savez('arrays.npz', array1=array1, array2=array2)"
   ],
   "id": "e635f6ff88b3ec05",
   "outputs": [],
   "execution_count": 77
  },
  {
   "metadata": {},
   "cell_type": "markdown",
   "source": "16、加载",
   "id": "15c180c9f6866977"
  },
  {
   "metadata": {
    "ExecuteTime": {
     "end_time": "2024-06-16T09:32:43.750485Z",
     "start_time": "2024-06-16T09:32:43.734858Z"
    }
   },
   "cell_type": "code",
   "source": [
    "#案例一：\n",
    "import numpy as np\n",
    "loaded_array = np.load('resized_array.npy')\n",
    "print(\"加载的数组:\")\n",
    "print(loaded_array)"
   ],
   "id": "11620d9d1d89fec3",
   "outputs": [
    {
     "name": "stdout",
     "output_type": "stream",
     "text": [
      "加载的数组:\n",
      "[[1 2 3 4]\n",
      " [5 6 1 2]\n",
      " [3 4 5 6]]\n"
     ]
    }
   ],
   "execution_count": 78
  },
  {
   "metadata": {
    "ExecuteTime": {
     "end_time": "2024-06-16T09:32:44.881074Z",
     "start_time": "2024-06-16T09:32:44.865305Z"
    }
   },
   "cell_type": "code",
   "source": [
    "#案例二：\n",
    "import numpy as np\n",
    "loaded_array = np.loadtxt('extended_array.txt', delimiter=',')\n",
    "print(\"加载的数组:\")\n",
    "print(loaded_array)"
   ],
   "id": "c99d8b5ff117e9b1",
   "outputs": [
    {
     "name": "stdout",
     "output_type": "stream",
     "text": [
      "加载的数组:\n",
      "123456.0\n"
     ]
    }
   ],
   "execution_count": 79
  },
  {
   "metadata": {
    "ExecuteTime": {
     "end_time": "2024-06-16T09:32:45.750793Z",
     "start_time": "2024-06-16T09:32:45.719566Z"
    }
   },
   "cell_type": "code",
   "source": [
    "#案例三：\n",
    "import numpy as np\n",
    "npzfile = np.load('arrays.npz')\n",
    "array1 = npzfile['array1']\n",
    "array2 = npzfile['array2']\n",
    "print(\"加载的数组 array1:\")\n",
    "print(array1)\n",
    "print(\"\\n加载的数组 array2:\")\n",
    "print(array2)"
   ],
   "id": "abbb39505801a6fa",
   "outputs": [
    {
     "name": "stdout",
     "output_type": "stream",
     "text": [
      "加载的数组 array1:\n",
      "[1 2 3]\n",
      "\n",
      "加载的数组 array2:\n",
      "[[4 5 6]\n",
      " [7 8 9]]\n"
     ]
    }
   ],
   "execution_count": 80
  }
 ],
 "metadata": {
  "kernelspec": {
   "display_name": "Python 3",
   "language": "python",
   "name": "python3"
  },
  "language_info": {
   "codemirror_mode": {
    "name": "ipython",
    "version": 2
   },
   "file_extension": ".py",
   "mimetype": "text/x-python",
   "name": "python",
   "nbconvert_exporter": "python",
   "pygments_lexer": "ipython2",
   "version": "2.7.6"
  }
 },
 "nbformat": 4,
 "nbformat_minor": 5
}
