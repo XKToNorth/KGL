{
 "cells": [
  {
   "cell_type": "markdown",
   "source": [
    "\n",
    "1. Numeric时期（1995年-2005年）\n",
    "\n",
    "1995年，Jim Hugunin开发了Numeric，这是Python中用于数值计算的第一个库。它引入了数组对象和一些基本的数组操作函数，为Python的数值计算奠定了基础。\n",
    "\n",
    "2. Numarray时期（2001年-2006年）\n",
    "\n",
    "2001年，为了解决Numeric的一些限制，Perry Greenfield、Rick White和Todd Miller开发了Numarray库。它引入了更灵活的数组切片、广播和内存映射文件支持等特性。\n",
    "然而，Numarray与Numeric并不完全兼容，这导致了一定程度的混乱和分裂。\n",
    "\n",
    "3. NumPy的诞生（2005年-2006年）\n",
    "\n",
    "  为了解决Numeric和Numarray的分裂问题，Travis Oliphant在2005年开始着手创建NumPy项目。\n",
    "2006年，NumPy的第一个版本正式发布，它结合了Numeric和Numarray的优点，并解决了它们之间的兼容性问题。\n",
    "\n",
    "4. NumPy的发展和成熟（2006年至今）\n",
    "\n",
    "  自2006年以来，NumPy得到了广泛的应用和发展，成为了Python科学计算领域的基础库之一。\n",
    "随着时间的推移，NumPy不断推出新版本，修复了之前的bug，并增加了新的功能和优化。\n",
    "例如，NumPy 1.0在2006年10月发布，而到了2021年1月，NumPy已经发布了1.20版本。\n"
   ],
   "metadata": {
    "collapsed": false
   },
   "id": "6978809dca2d081e"
  },
  {
   "cell_type": "code",
   "outputs": [],
   "source": [],
   "metadata": {
    "collapsed": false
   },
   "id": "73128e282a49505f"
  }
 ],
 "metadata": {
  "kernelspec": {
   "display_name": "Python 3",
   "language": "python",
   "name": "python3"
  },
  "language_info": {
   "codemirror_mode": {
    "name": "ipython",
    "version": 2
   },
   "file_extension": ".py",
   "mimetype": "text/x-python",
   "name": "python",
   "nbconvert_exporter": "python",
   "pygments_lexer": "ipython2",
   "version": "2.7.6"
  }
 },
 "nbformat": 4,
 "nbformat_minor": 5
}
