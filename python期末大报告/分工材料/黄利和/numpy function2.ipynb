{
 "cells": [
  {
   "cell_type": "markdown",
   "source": [
    "一、数组操作"
   ],
   "metadata": {
    "collapsed": false
   },
   "id": "695752e521f7442a"
  },
  {
   "cell_type": "markdown",
   "source": [
    "17.min（返回数组中的最小值。）"
   ],
   "metadata": {
    "collapsed": false
   },
   "id": "de76a5eca5abbee3"
  },
  {
   "cell_type": "markdown",
   "source": [],
   "metadata": {
    "collapsed": false
   },
   "id": "c139fb9fbc714dab"
  },
  {
   "cell_type": "code",
   "outputs": [
    {
     "data": {
      "text/plain": "1"
     },
     "execution_count": 1,
     "metadata": {},
     "output_type": "execute_result"
    }
   ],
   "source": [
    "#示例1：array([1,1,2,3,3,4,5,6,6,2])\n",
    "import numpy as np\n",
    "arr = np.array([1,1,2,3,3,4,5,6,6,2])\n",
    "np.min(arr)"
   ],
   "metadata": {
    "collapsed": false,
    "ExecuteTime": {
     "end_time": "2024-06-16T05:24:06.761739Z",
     "start_time": "2024-06-16T05:24:06.660566Z"
    }
   },
   "id": "d0e90edd747043a2",
   "execution_count": 1
  },
  {
   "cell_type": "code",
   "outputs": [
    {
     "data": {
      "text/plain": "0"
     },
     "execution_count": 1,
     "metadata": {},
     "output_type": "execute_result"
    }
   ],
   "source": [
    "#示例2：array([0,1,2,3,3,4,5,6,6,2])\n",
    "import numpy as np\n",
    "arr = np.array([0,1,2,3,3,4,5,6,6,2])\n",
    "np.min(arr)"
   ],
   "metadata": {
    "collapsed": false,
    "ExecuteTime": {
     "end_time": "2024-06-16T14:15:10.449455Z",
     "start_time": "2024-06-16T14:15:10.336729Z"
    }
   },
   "id": "718c87d09b19c43",
   "execution_count": 1
  },
  {
   "cell_type": "code",
   "outputs": [
    {
     "data": {
      "text/plain": "2"
     },
     "execution_count": 2,
     "metadata": {},
     "output_type": "execute_result"
    }
   ],
   "source": [
    "#示例3：array([2,2,2,3,3,4,5,6,6,2])\n",
    "import numpy as np\n",
    "arr = np.array([2,2,2,3,3,4,5,6,6,2])\n",
    "np.min(arr)"
   ],
   "metadata": {
    "collapsed": false,
    "ExecuteTime": {
     "end_time": "2024-06-16T14:15:18.045301Z",
     "start_time": "2024-06-16T14:15:18.034412Z"
    }
   },
   "id": "d63aa75c49fe6943",
   "execution_count": 2
  },
  {
   "cell_type": "markdown",
   "source": [
    "18.max（返回数组中的最大值。）"
   ],
   "metadata": {
    "collapsed": false
   },
   "id": "7e720e40a74866cf"
  },
  {
   "cell_type": "code",
   "outputs": [
    {
     "data": {
      "text/plain": "6"
     },
     "execution_count": 5,
     "metadata": {},
     "output_type": "execute_result"
    }
   ],
   "source": [
    "#示例1：array([1,1,2,3,3,4,5,6,6,2])\n",
    "import numpy as np\n",
    "arr = np.array([1,1,2,3,3,4,5,6,6,2])\n",
    "np.max(arr)"
   ],
   "metadata": {
    "collapsed": false,
    "ExecuteTime": {
     "end_time": "2024-06-16T14:19:13.224089Z",
     "start_time": "2024-06-16T14:19:13.205543Z"
    }
   },
   "id": "14ab29e8ebff7638",
   "execution_count": 5
  },
  {
   "cell_type": "code",
   "outputs": [
    {
     "data": {
      "text/plain": "7"
     },
     "execution_count": 3,
     "metadata": {},
     "output_type": "execute_result"
    }
   ],
   "source": [
    "#示例2：array([0,1,2,3,3,4,5,6,7,2])\n",
    "import numpy as np\n",
    "arr = np.array([0,1,2,3,3,4,5,6,7,2])\n",
    "np.max(arr)"
   ],
   "metadata": {
    "collapsed": false,
    "ExecuteTime": {
     "end_time": "2024-06-16T14:16:18.320272Z",
     "start_time": "2024-06-16T14:16:18.313775Z"
    }
   },
   "id": "b2b48eeb9b8ac168",
   "execution_count": 3
  },
  {
   "cell_type": "code",
   "outputs": [
    {
     "data": {
      "text/plain": "8"
     },
     "execution_count": 4,
     "metadata": {},
     "output_type": "execute_result"
    }
   ],
   "source": [
    "#示例3：array([2,2,2,3,3,4,5,6,8,2])\n",
    "import numpy as np\n",
    "arr = np.array([2,2,2,3,3,4,5,6,8,2])\n",
    "np.max(arr)"
   ],
   "metadata": {
    "collapsed": false,
    "ExecuteTime": {
     "end_time": "2024-06-16T14:16:20.003661Z",
     "start_time": "2024-06-16T14:16:19.996399Z"
    }
   },
   "id": "c01709df858e5f80",
   "execution_count": 4
  },
  {
   "cell_type": "markdown",
   "source": [
    "19.unique(返回一个所有唯一元素排序的数组。)\n",
    "\n",
    "return_counts:如果为True，返回数组中每个唯一元素出现的次数。"
   ],
   "metadata": {
    "collapsed": false
   },
   "id": "797dd58ca5bef94e"
  },
  {
   "cell_type": "code",
   "outputs": [
    {
     "data": {
      "text/plain": "(array([1, 2, 3, 4, 5, 6]), array([2, 2, 2, 1, 1, 2], dtype=int64))"
     },
     "execution_count": 6,
     "metadata": {},
     "output_type": "execute_result"
    }
   ],
   "source": [
    "#示例1：array([1,1,2,3,3,4,5,6,6,2])\n",
    "import numpy as np\n",
    "arr = np.array([1,1,2,3,3,4,5,6,6,2])\n",
    "np.unique(arr,return_counts=True)"
   ],
   "metadata": {
    "collapsed": false,
    "ExecuteTime": {
     "end_time": "2024-06-16T14:19:31.709854Z",
     "start_time": "2024-06-16T14:19:31.689814Z"
    }
   },
   "id": "8852709d73607012",
   "execution_count": 6
  },
  {
   "cell_type": "code",
   "outputs": [
    {
     "data": {
      "text/plain": "(array([0, 1, 2, 3, 4, 5, 6, 7]), array([1, 1, 2, 2, 1, 1, 1, 1], dtype=int64))"
     },
     "execution_count": 7,
     "metadata": {},
     "output_type": "execute_result"
    }
   ],
   "source": [
    "#示例2：array([0,1,2,3,3,4,5,6,7,2])\n",
    "import numpy as np\n",
    "arr = np.array([0,1,2,3,3,4,5,6,7,2])\n",
    "np.unique(arr,return_counts=True)"
   ],
   "metadata": {
    "collapsed": false,
    "ExecuteTime": {
     "end_time": "2024-06-16T14:19:59.189982Z",
     "start_time": "2024-06-16T14:19:59.179367Z"
    }
   },
   "id": "d0e0ce6f63ba66d9",
   "execution_count": 7
  },
  {
   "cell_type": "code",
   "outputs": [
    {
     "data": {
      "text/plain": "(array([2, 3, 4, 5, 6, 8]), array([4, 2, 1, 1, 1, 1], dtype=int64))"
     },
     "execution_count": 8,
     "metadata": {},
     "output_type": "execute_result"
    }
   ],
   "source": [
    "#示例3：array([2,2,2,3,3,4,5,6,8,2])\n",
    "import numpy as np\n",
    "arr = np.array([2,2,2,3,3,4,5,6,8,2])\n",
    "np.unique(arr,return_counts=True)"
   ],
   "metadata": {
    "collapsed": false,
    "ExecuteTime": {
     "end_time": "2024-06-16T14:20:00.866633Z",
     "start_time": "2024-06-16T14:20:00.854822Z"
    }
   },
   "id": "557a1820a8165aa9",
   "execution_count": 8
  },
  {
   "cell_type": "markdown",
   "source": [
    "20.mean(返回数组的平均数)\n",
    "\n"
   ],
   "metadata": {
    "collapsed": false
   },
   "id": "cdabfc8ef7413fd7"
  },
  {
   "cell_type": "code",
   "outputs": [
    {
     "data": {
      "text/plain": "6"
     },
     "execution_count": 16,
     "metadata": {},
     "output_type": "execute_result"
    }
   ],
   "source": [
    "#示例1：array([9,1,2,9,9,4,5,8,8,2])\n",
    "import numpy as np\n",
    "arr = np.array([9,1,2,9,9,4,5,8,8,2])\n",
    "np.mean(arr,dtype='int')"
   ],
   "metadata": {
    "collapsed": false,
    "ExecuteTime": {
     "end_time": "2024-06-15T09:26:19.922637Z",
     "start_time": "2024-06-15T09:26:19.907687Z"
    }
   },
   "id": "f9d2eaaca880b318",
   "execution_count": 16
  },
  {
   "cell_type": "code",
   "outputs": [
    {
     "data": {
      "text/plain": "6"
     },
     "execution_count": 9,
     "metadata": {},
     "output_type": "execute_result"
    }
   ],
   "source": [
    "#示例2：array([9,1,8,8,6,4,8,8,7,6])\n",
    "import numpy as np\n",
    "arr = np.array([9,1,8,8,6,4,8,8,7,6])\n",
    "np.mean(arr,dtype='int')"
   ],
   "metadata": {
    "collapsed": false,
    "ExecuteTime": {
     "end_time": "2024-06-16T14:20:57.947528Z",
     "start_time": "2024-06-16T14:20:57.942380Z"
    }
   },
   "id": "d750f72fc8fb2b5e",
   "execution_count": 9
  },
  {
   "cell_type": "code",
   "outputs": [
    {
     "data": {
      "text/plain": "3"
     },
     "execution_count": 10,
     "metadata": {},
     "output_type": "execute_result"
    }
   ],
   "source": [
    "#示例3：array([2,2,2,3,3,4,5,6,8,2])\n",
    "import numpy as np\n",
    "arr = np.array([2,2,2,3,3,4,5,6,8,2])\n",
    "np.mean(arr,dtype='int')"
   ],
   "metadata": {
    "collapsed": false,
    "ExecuteTime": {
     "end_time": "2024-06-16T14:20:59.879903Z",
     "start_time": "2024-06-16T14:20:59.859952Z"
    }
   },
   "id": "154d4dbb8ce6da89",
   "execution_count": 10
  },
  {
   "cell_type": "markdown",
   "source": [
    "21.medain(返回数组的中位数。)\n"
   ],
   "metadata": {
    "collapsed": false
   },
   "id": "96acacf2f2fa502d"
  },
  {
   "cell_type": "code",
   "outputs": [
    {
     "data": {
      "text/plain": "3.5"
     },
     "execution_count": 11,
     "metadata": {},
     "output_type": "execute_result"
    }
   ],
   "source": [
    "#示例1：array([[1,2,3],[5,8,4]])\n",
    "import numpy as np\n",
    "arr = np.array([[1,2,3],[5,8,4]])\n",
    "np.median(arr)"
   ],
   "metadata": {
    "collapsed": false,
    "ExecuteTime": {
     "end_time": "2024-06-16T14:21:54.253377Z",
     "start_time": "2024-06-16T14:21:54.244118Z"
    }
   },
   "id": "e5cd7ad57b5d49f8",
   "execution_count": 11
  },
  {
   "cell_type": "code",
   "outputs": [
    {
     "data": {
      "text/plain": "4.0"
     },
     "execution_count": 12,
     "metadata": {},
     "output_type": "execute_result"
    }
   ],
   "source": [
    "#示例2：array([[2,2,4],[5,8,4]])\n",
    "import numpy as np\n",
    "arr = np.array([[2,2,4],[5,8,4]])\n",
    "np.median(arr)"
   ],
   "metadata": {
    "collapsed": false,
    "ExecuteTime": {
     "end_time": "2024-06-16T14:21:54.906408Z",
     "start_time": "2024-06-16T14:21:54.897462Z"
    }
   },
   "id": "c06e249249225eb6",
   "execution_count": 12
  },
  {
   "cell_type": "code",
   "outputs": [
    {
     "data": {
      "text/plain": "6.0"
     },
     "execution_count": 13,
     "metadata": {},
     "output_type": "execute_result"
    }
   ],
   "source": [
    "#示例3：array([[1,2,7],[5,8,8]])\n",
    "import numpy as np\n",
    "arr = np.array([[1,2,7],[5,8,8]])\n",
    "np.median(arr)"
   ],
   "metadata": {
    "collapsed": false,
    "ExecuteTime": {
     "end_time": "2024-06-16T14:21:55.765118Z",
     "start_time": "2024-06-16T14:21:55.760127Z"
    }
   },
   "id": "f47f20ebbb2099a7",
   "execution_count": 13
  },
  {
   "cell_type": "markdown",
   "source": [
    "22.reshape(NumPy中最常用的函数之一.返回一个数组，其中包含具有新形状的相同数据。)"
   ],
   "metadata": {
    "collapsed": false
   },
   "id": "466f4a66ac55054b"
  },
  {
   "cell_type": "code",
   "outputs": [
    {
     "data": {
      "text/plain": "array([[ 8, 14,  1,  8],\n       [11,  4,  9,  4],\n       [ 1, 13, 13, 11]])"
     },
     "execution_count": 14,
     "metadata": {},
     "output_type": "execute_result"
    }
   ],
   "source": [
    "#示例1：arr.reshape(3,4)\n",
    "import numpy as np\n",
    "arr = np.array([[8,14,1],\n",
    "       [8,11,4],\n",
    "       [9,4,1],\n",
    "       [13,13,11]])\n",
    "arr.reshape(3,4)"
   ],
   "metadata": {
    "collapsed": false,
    "ExecuteTime": {
     "end_time": "2024-06-16T14:22:59.531513Z",
     "start_time": "2024-06-16T14:22:59.513429Z"
    }
   },
   "id": "d33de4319a116e08",
   "execution_count": 14
  },
  {
   "cell_type": "code",
   "outputs": [
    {
     "data": {
      "text/plain": "array([[ 8, 14,  1],\n       [ 8, 11,  4],\n       [ 9,  4,  1],\n       [13, 13, 11]])"
     },
     "execution_count": 15,
     "metadata": {},
     "output_type": "execute_result"
    }
   ],
   "source": [
    "#示例2：arr.reshape(4,3)\n",
    "import numpy as np\n",
    "arr = np.array([[8,14,1],\n",
    "       [8,11,4],\n",
    "       [9,4,1],\n",
    "       [13,13,11]])\n",
    "arr.reshape(4,3)"
   ],
   "metadata": {
    "collapsed": false,
    "ExecuteTime": {
     "end_time": "2024-06-16T14:23:00.299074Z",
     "start_time": "2024-06-16T14:23:00.276133Z"
    }
   },
   "id": "25d282bea4e93084",
   "execution_count": 15
  },
  {
   "cell_type": "code",
   "outputs": [
    {
     "data": {
      "text/plain": "array([[ 8, 14,  1,  8, 11,  4],\n       [ 9,  4,  1, 13, 13, 11]])"
     },
     "execution_count": 16,
     "metadata": {},
     "output_type": "execute_result"
    }
   ],
   "source": [
    "#示例3：arr.reshape(2,6)\n",
    "import numpy as np\n",
    "arr = np.array([[8,14,1],\n",
    "       [8,11,4],\n",
    "       [9,4,1],\n",
    "       [13,13,11]])\n",
    "arr.reshape(2,6)"
   ],
   "metadata": {
    "collapsed": false,
    "ExecuteTime": {
     "end_time": "2024-06-16T14:23:04.886393Z",
     "start_time": "2024-06-16T14:23:04.876429Z"
    }
   },
   "id": "5c0d1585298dd29e",
   "execution_count": 16
  },
  {
   "cell_type": "markdown",
   "source": [
    "23.count_nonzero(计算所有非零元素并返回它们的计数。)"
   ],
   "metadata": {
    "collapsed": false
   },
   "id": "acfa5777f8715bcf"
  },
  {
   "cell_type": "code",
   "outputs": [
    {
     "data": {
      "text/plain": "3"
     },
     "execution_count": 17,
     "metadata": {},
     "output_type": "execute_result"
    }
   ],
   "source": [
    "#示例1：array([0,0,1,1,1,0])\n",
    "import numpy as np\n",
    "a = np.array([0,0,1,1,1,0])\n",
    "np.count_nonzero(a)"
   ],
   "metadata": {
    "collapsed": false,
    "ExecuteTime": {
     "end_time": "2024-06-16T14:23:57.486304Z",
     "start_time": "2024-06-16T14:23:57.465969Z"
    }
   },
   "id": "dcf96ebedfdea84d",
   "execution_count": 17
  },
  {
   "cell_type": "code",
   "outputs": [
    {
     "data": {
      "text/plain": "4"
     },
     "execution_count": 18,
     "metadata": {},
     "output_type": "execute_result"
    }
   ],
   "source": [
    "#示例2：array([0,0,1,1,1,2])\n",
    "import numpy as np\n",
    "a = np.array([0,0,1,1,1,2])\n",
    "np.count_nonzero(a)"
   ],
   "metadata": {
    "collapsed": false,
    "ExecuteTime": {
     "end_time": "2024-06-16T14:23:58.937299Z",
     "start_time": "2024-06-16T14:23:58.919193Z"
    }
   },
   "id": "87a6a25c99f4544a",
   "execution_count": 18
  },
  {
   "cell_type": "code",
   "outputs": [
    {
     "data": {
      "text/plain": "5"
     },
     "execution_count": 19,
     "metadata": {},
     "output_type": "execute_result"
    }
   ],
   "source": [
    "#示例3：array([0,2,1,1,1,4])\n",
    "import numpy as np\n",
    "a = np.array([0,2,1,1,1,4])\n",
    "np.count_nonzero(a)"
   ],
   "metadata": {
    "collapsed": false,
    "ExecuteTime": {
     "end_time": "2024-06-16T14:24:00.026457Z",
     "start_time": "2024-06-16T14:24:00.018811Z"
    }
   },
   "id": "fe7c4d5b98a55913",
   "execution_count": 19
  },
  {
   "cell_type": "markdown",
   "source": [
    "24.argwhere(查找并返回非零元素的所有下标。)"
   ],
   "metadata": {
    "collapsed": false
   },
   "id": "12bbb8221a9047c7"
  },
  {
   "cell_type": "code",
   "outputs": [
    {
     "data": {
      "text/plain": "array([[2],\n       [3],\n       [4]], dtype=int64)"
     },
     "execution_count": 20,
     "metadata": {},
     "output_type": "execute_result"
    }
   ],
   "source": [
    "#示例1：array([0,0,1,1,1,0])\n",
    "import numpy as np\n",
    "a = np.array([0,0,1,1,1,0])\n",
    "np.argwhere(a)"
   ],
   "metadata": {
    "collapsed": false,
    "ExecuteTime": {
     "end_time": "2024-06-16T14:24:52.933907Z",
     "start_time": "2024-06-16T14:24:52.918935Z"
    }
   },
   "id": "815c962a2c5e50e0",
   "execution_count": 20
  },
  {
   "cell_type": "code",
   "outputs": [
    {
     "data": {
      "text/plain": "array([[2],\n       [3],\n       [4],\n       [5]], dtype=int64)"
     },
     "execution_count": 21,
     "metadata": {},
     "output_type": "execute_result"
    }
   ],
   "source": [
    "#示例2：array([0,0,1,1,1,2])\n",
    "import numpy as np\n",
    "a = np.array([0,0,1,1,1,2])\n",
    "np.argwhere(a)"
   ],
   "metadata": {
    "collapsed": false,
    "ExecuteTime": {
     "end_time": "2024-06-16T14:24:57.227058Z",
     "start_time": "2024-06-16T14:24:57.221546Z"
    }
   },
   "id": "aad512e561a6155f",
   "execution_count": 21
  },
  {
   "cell_type": "code",
   "outputs": [
    {
     "data": {
      "text/plain": "array([[1],\n       [2],\n       [3],\n       [4],\n       [5]], dtype=int64)"
     },
     "execution_count": 22,
     "metadata": {},
     "output_type": "execute_result"
    }
   ],
   "source": [
    "#示例3：array([0,2,1,1,1,4])\n",
    "import numpy as np\n",
    "a = np.array([0,2,1,1,1,4])\n",
    "np.argwhere(a)"
   ],
   "metadata": {
    "collapsed": false,
    "ExecuteTime": {
     "end_time": "2024-06-16T14:24:59.930193Z",
     "start_time": "2024-06-16T14:24:59.920099Z"
    }
   },
   "id": "4e775719bbe424da",
   "execution_count": 22
  },
  {
   "cell_type": "markdown",
   "source": [
    "25.argmax & argmin"
   ],
   "metadata": {
    "collapsed": false
   },
   "id": "63de8dff71d19d36"
  },
  {
   "cell_type": "markdown",
   "source": [
    "argmax返回数组中Max元素的索引。"
   ],
   "metadata": {
    "collapsed": false
   },
   "id": "4e44c62a09ad1705"
  },
  {
   "cell_type": "code",
   "outputs": [
    {
     "data": {
      "text/plain": "0"
     },
     "execution_count": 23,
     "metadata": {},
     "output_type": "execute_result"
    }
   ],
   "source": [
    "#示例1：([[8,7,6,5]])\n",
    "import numpy as np\n",
    "arr = np.array([[8,7,6,5]])\n",
    "np.argmax(arr)"
   ],
   "metadata": {
    "collapsed": false,
    "ExecuteTime": {
     "end_time": "2024-06-16T14:28:33.079726Z",
     "start_time": "2024-06-16T14:28:33.066889Z"
    }
   },
   "id": "7df1ee7173dceb87",
   "execution_count": 23
  },
  {
   "cell_type": "code",
   "outputs": [
    {
     "data": {
      "text/plain": "1"
     },
     "execution_count": 24,
     "metadata": {},
     "output_type": "execute_result"
    }
   ],
   "source": [
    "#示例2：([[8,9,6,5]])\n",
    "import numpy as np\n",
    "arr = np.array([[8,9,6,5]])\n",
    "np.argmax(arr)"
   ],
   "metadata": {
    "collapsed": false,
    "ExecuteTime": {
     "end_time": "2024-06-16T14:28:33.655992Z",
     "start_time": "2024-06-16T14:28:33.646355Z"
    }
   },
   "id": "bf23d1b74e27d1e2",
   "execution_count": 24
  },
  {
   "cell_type": "code",
   "outputs": [
    {
     "data": {
      "text/plain": "2"
     },
     "execution_count": 25,
     "metadata": {},
     "output_type": "execute_result"
    }
   ],
   "source": [
    "#示例3：([[2,4,6,5]])\n",
    "import numpy as np\n",
    "arr = np.array([[2,4,6,5]])\n",
    "np.argmax(arr)"
   ],
   "metadata": {
    "collapsed": false,
    "ExecuteTime": {
     "end_time": "2024-06-16T14:28:34.216282Z",
     "start_time": "2024-06-16T14:28:34.201968Z"
    }
   },
   "id": "9e5259fa7ad6d125",
   "execution_count": 25
  },
  {
   "cell_type": "markdown",
   "source": [
    "argmin返回数组中min元素的索引。"
   ],
   "metadata": {
    "collapsed": false
   },
   "id": "780406fded21bd8e"
  },
  {
   "cell_type": "code",
   "outputs": [
    {
     "data": {
      "text/plain": "2"
     },
     "execution_count": 49,
     "metadata": {},
     "output_type": "execute_result"
    }
   ],
   "source": [
    "import numpy as np\n",
    "#示例1：([[8,7,3,5]])\n",
    "#示例2：([[8,9,6,5]])\n",
    "#示例3：([[2,4,6,5]])\n",
    "arr = np.array([[8,7,3,5]])\n",
    "np.argmin(arr)"
   ],
   "metadata": {
    "collapsed": false,
    "ExecuteTime": {
     "end_time": "2024-06-15T10:20:35.921487Z",
     "start_time": "2024-06-15T10:20:35.910518Z"
    }
   },
   "id": "5e29f88c79ecabc3",
   "execution_count": 49
  },
  {
   "cell_type": "markdown",
   "source": [
    "26.sort(对数组排序)"
   ],
   "metadata": {
    "collapsed": false
   },
   "id": "837d13efee49896f"
  },
  {
   "cell_type": "code",
   "outputs": [
    {
     "data": {
      "text/plain": "array([1, 2, 3, 4, 5, 7])"
     },
     "execution_count": 26,
     "metadata": {},
     "output_type": "execute_result"
    }
   ],
   "source": [
    "#示例1：([2,3,1,7,4,5])\n",
    "import numpy as np\n",
    "arr = np.array([2,3,1,7,4,5])\n",
    "np.sort(arr)"
   ],
   "metadata": {
    "collapsed": false,
    "ExecuteTime": {
     "end_time": "2024-06-16T14:29:16.695750Z",
     "start_time": "2024-06-16T14:29:16.674169Z"
    }
   },
   "id": "f5439227dcfe9acd",
   "execution_count": 26
  },
  {
   "cell_type": "code",
   "outputs": [
    {
     "data": {
      "text/plain": "array([ 4,  5,  7, 11, 15, 20])"
     },
     "execution_count": 27,
     "metadata": {},
     "output_type": "execute_result"
    }
   ],
   "source": [
    "#示例2：([11,20,15,7,4,5])\n",
    "import numpy as np\n",
    "arr = np.array([11,20,15,7,4,5])\n",
    "np.sort(arr)"
   ],
   "metadata": {
    "collapsed": false,
    "ExecuteTime": {
     "end_time": "2024-06-16T14:29:17.476067Z",
     "start_time": "2024-06-16T14:29:17.465654Z"
    }
   },
   "id": "b1181da1eaf09ef",
   "execution_count": 27
  },
  {
   "cell_type": "code",
   "outputs": [
    {
     "data": {
      "text/plain": "array([ 0,  1,  4,  5, 14, 22])"
     },
     "execution_count": 28,
     "metadata": {},
     "output_type": "execute_result"
    }
   ],
   "source": [
    "#示例3：([22,0,1,14,4,5])\n",
    "import numpy as np\n",
    "arr = np.array([22,0,1,14,4,5])\n",
    "np.sort(arr)"
   ],
   "metadata": {
    "collapsed": false,
    "ExecuteTime": {
     "end_time": "2024-06-16T14:29:19.878935Z",
     "start_time": "2024-06-16T14:29:19.863968Z"
    }
   },
   "id": "a6f4462a464e0688",
   "execution_count": 28
  },
  {
   "cell_type": "markdown",
   "source": [
    "27.abs(返回数组中元素的绝对值。)"
   ],
   "metadata": {
    "collapsed": false
   },
   "id": "17a33e99ec6f2cce"
  },
  {
   "cell_type": "code",
   "outputs": [
    {
     "data": {
      "text/plain": "array([[1, 3, 4],\n       [2, 4, 3]])"
     },
     "execution_count": 29,
     "metadata": {},
     "output_type": "execute_result"
    }
   ],
   "source": [
    "#示例1：([[1,-3,4],[-2,-4,3]])\n",
    "import numpy as np\n",
    "A = np.array([[1,-3,4],[-2,-4,3]])\n",
    "np.abs(A)"
   ],
   "metadata": {
    "collapsed": false,
    "ExecuteTime": {
     "end_time": "2024-06-16T14:30:25.974330Z",
     "start_time": "2024-06-16T14:30:25.954243Z"
    }
   },
   "id": "e50d4d26c5a548f3",
   "execution_count": 29
  },
  {
   "cell_type": "code",
   "outputs": [
    {
     "data": {
      "text/plain": "array([[1, 3, 5],\n       [2, 4, 3]])"
     },
     "execution_count": 30,
     "metadata": {},
     "output_type": "execute_result"
    }
   ],
   "source": [
    "#示例2：([[-1,-3,-5],[-2,-4,3]])\n",
    "import numpy as np\n",
    "A = np.array([[-1,-3,-5],[-2,-4,3]])\n",
    "np.abs(A)"
   ],
   "metadata": {
    "collapsed": false,
    "ExecuteTime": {
     "end_time": "2024-06-16T14:30:26.879135Z",
     "start_time": "2024-06-16T14:30:26.859835Z"
    }
   },
   "id": "aea5559ee984e2b",
   "execution_count": 30
  },
  {
   "cell_type": "code",
   "outputs": [
    {
     "data": {
      "text/plain": "array([[9, 3, 8],\n       [0, 6, 3]])"
     },
     "execution_count": 31,
     "metadata": {},
     "output_type": "execute_result"
    }
   ],
   "source": [
    "#示例3：([[-9,-3,-8],[0,-6,3]])\n",
    "import numpy as np\n",
    "A = np.array([[-9,-3,-8],[0,-6,3]])\n",
    "np.abs(A)"
   ],
   "metadata": {
    "collapsed": false,
    "ExecuteTime": {
     "end_time": "2024-06-16T14:30:27.706174Z",
     "start_time": "2024-06-16T14:30:27.692119Z"
    }
   },
   "id": "69f400a14f003b2a",
   "execution_count": 31
  },
  {
   "cell_type": "markdown",
   "source": [
    "28.round(将浮点值四舍五入到指定数目的小数点。)\n",
    "decimals:要保留的小数点的个数。"
   ],
   "metadata": {
    "collapsed": false
   },
   "id": "4e965caed1c99614"
  },
  {
   "cell_type": "code",
   "outputs": [
    {
     "data": {
      "text/plain": "array([[0.6522835 , 0.19529387, 0.68000104, 0.9397523 ],\n       [0.73117254, 0.7758192 , 0.26925321, 0.70156831],\n       [0.41146812, 0.04938538, 0.77374017, 0.96196697]])"
     },
     "execution_count": 32,
     "metadata": {},
     "output_type": "execute_result"
    }
   ],
   "source": [
    "import numpy as np\n",
    "a = np.random.random(size=(3,4))\n",
    "a"
   ],
   "metadata": {
    "collapsed": false,
    "ExecuteTime": {
     "end_time": "2024-06-16T14:31:21.542755Z",
     "start_time": "2024-06-16T14:31:21.532714Z"
    }
   },
   "id": "ed2a2273560399cd",
   "execution_count": 32
  },
  {
   "cell_type": "code",
   "outputs": [
    {
     "data": {
      "text/plain": "array([[1., 0., 1., 1.],\n       [1., 1., 0., 1.],\n       [0., 0., 1., 1.]])"
     },
     "execution_count": 33,
     "metadata": {},
     "output_type": "execute_result"
    }
   ],
   "source": [
    "#示例1：np.round(a,decimals=0)\n",
    "#示例2：np.round(a,decimals=1)\n",
    "#示例3：np.round(a,decimals=2)\n",
    "np.round(a,decimals=0)"
   ],
   "metadata": {
    "collapsed": false,
    "ExecuteTime": {
     "end_time": "2024-06-16T14:31:22.614592Z",
     "start_time": "2024-06-16T14:31:22.600089Z"
    }
   },
   "id": "2f2b50c5317a0833",
   "execution_count": 33
  },
  {
   "cell_type": "code",
   "outputs": [
    {
     "data": {
      "text/plain": "array([[0.7, 0.2, 0.7, 0.9],\n       [0.7, 0.8, 0.3, 0.7],\n       [0.4, 0. , 0.8, 1. ]])"
     },
     "execution_count": 34,
     "metadata": {},
     "output_type": "execute_result"
    }
   ],
   "source": [
    "#示例2：np.round(a,decimals=1)\n",
    "np.round(a,decimals=1)"
   ],
   "metadata": {
    "collapsed": false,
    "ExecuteTime": {
     "end_time": "2024-06-16T14:31:23.379585Z",
     "start_time": "2024-06-16T14:31:23.367629Z"
    }
   },
   "id": "a55e0966e6d9fe8",
   "execution_count": 34
  },
  {
   "cell_type": "code",
   "outputs": [
    {
     "data": {
      "text/plain": "array([[0.65, 0.2 , 0.68, 0.94],\n       [0.73, 0.78, 0.27, 0.7 ],\n       [0.41, 0.05, 0.77, 0.96]])"
     },
     "execution_count": 35,
     "metadata": {},
     "output_type": "execute_result"
    }
   ],
   "source": [
    "#示例3：np.round(a,decimals=2)\n",
    "np.round(a,decimals=2)"
   ],
   "metadata": {
    "collapsed": false,
    "ExecuteTime": {
     "end_time": "2024-06-16T14:31:24.050346Z",
     "start_time": "2024-06-16T14:31:24.037812Z"
    }
   },
   "id": "b301281e86013cf",
   "execution_count": 35
  },
  {
   "cell_type": "markdown",
   "source": [
    "29.clip(将数组的裁剪值保持在一个范围内。)"
   ],
   "metadata": {
    "collapsed": false
   },
   "id": "3bd98a1b2d39eee5"
  },
  {
   "cell_type": "code",
   "outputs": [
    {
     "data": {
      "text/plain": "array([0, 1, 0, 0, 5, 5, 5, 2, 3])"
     },
     "execution_count": 36,
     "metadata": {},
     "output_type": "execute_result"
    }
   ],
   "source": [
    "#示例1：arr.clip(0,5)\n",
    "import numpy as np\n",
    "arr = np.array([0,1,-3,-4,5,6,7,2,3])\n",
    "arr.clip(0,5)"
   ],
   "metadata": {
    "collapsed": false,
    "ExecuteTime": {
     "end_time": "2024-06-16T14:33:01.735703Z",
     "start_time": "2024-06-16T14:33:01.716802Z"
    }
   },
   "id": "8ab42a03c70bbcf1",
   "execution_count": 36
  },
  {
   "cell_type": "code",
   "outputs": [
    {
     "data": {
      "text/plain": "array([2, 2, 2, 2, 5, 5, 5, 2, 3])"
     },
     "execution_count": 37,
     "metadata": {},
     "output_type": "execute_result"
    }
   ],
   "source": [
    "#示例2：arr.clip(2,5)\n",
    "import numpy as np\n",
    "arr = np.array([0,1,-3,-4,5,6,7,2,3])\n",
    "arr.clip(2,5)"
   ],
   "metadata": {
    "collapsed": false,
    "ExecuteTime": {
     "end_time": "2024-06-16T14:33:02.428716Z",
     "start_time": "2024-06-16T14:33:02.416134Z"
    }
   },
   "id": "fbc68076462c7b8c",
   "execution_count": 37
  },
  {
   "cell_type": "code",
   "outputs": [
    {
     "data": {
      "text/plain": "array([ 0,  0, -3, -3,  0,  0,  0,  0,  0])"
     },
     "execution_count": 38,
     "metadata": {},
     "output_type": "execute_result"
    }
   ],
   "source": [
    "#示例3：arr.clip(-3,0)\n",
    "import numpy as np\n",
    "arr = np.array([0,1,-3,-4,5,6,7,2,3])\n",
    "arr.clip(-3,0)"
   ],
   "metadata": {
    "collapsed": false,
    "ExecuteTime": {
     "end_time": "2024-06-16T14:33:02.940783Z",
     "start_time": "2024-06-16T14:33:02.926923Z"
    }
   },
   "id": "dbdcd545959fd16a",
   "execution_count": 38
  },
  {
   "cell_type": "markdown",
   "source": [
    "二、替换数组中的值"
   ],
   "metadata": {
    "collapsed": false
   },
   "id": "8da6580c41a3dd7a"
  },
  {
   "cell_type": "markdown",
   "source": [
    "30.where(返回满足条件的数组元素。)"
   ],
   "metadata": {
    "collapsed": false
   },
   "id": "121a2bd21127939e"
  },
  {
   "cell_type": "code",
   "outputs": [
    {
     "data": {
      "text/plain": "array([ 2,  3,  4,  5,  6,  7,  8,  9, 10, 11])"
     },
     "execution_count": 39,
     "metadata": {},
     "output_type": "execute_result"
    }
   ],
   "source": [
    "#示例1：a[np.where(a>1)]\n",
    "import numpy as np\n",
    "a = np.array([[ 0,  1,  2],\n",
    "       [ 3,  4,  5],\n",
    "       [ 6,  7,  8],\n",
    "       [ 9, 10, 11]])\n",
    "a[np.where(a>1)]"
   ],
   "metadata": {
    "collapsed": false,
    "ExecuteTime": {
     "end_time": "2024-06-16T14:34:01.557112Z",
     "start_time": "2024-06-16T14:34:01.548597Z"
    }
   },
   "id": "1091f91b149aaa24",
   "execution_count": 39
  },
  {
   "cell_type": "code",
   "outputs": [
    {
     "data": {
      "text/plain": "array([ 4,  5,  6,  7,  8,  9, 10, 11])"
     },
     "execution_count": 40,
     "metadata": {},
     "output_type": "execute_result"
    }
   ],
   "source": [
    "#示例2：a[np.where(a>3)]\n",
    "import numpy as np\n",
    "a = np.array([[ 0,  1,  2],\n",
    "       [ 3,  4,  5],\n",
    "       [ 6,  7,  8],\n",
    "       [ 9, 10, 11]])\n",
    "a[np.where(a>3)]"
   ],
   "metadata": {
    "collapsed": false,
    "ExecuteTime": {
     "end_time": "2024-06-16T14:34:02.599915Z",
     "start_time": "2024-06-16T14:34:02.593549Z"
    }
   },
   "id": "faa3c9468a27eae5",
   "execution_count": 40
  },
  {
   "cell_type": "code",
   "outputs": [
    {
     "data": {
      "text/plain": "array([ 6,  7,  8,  9, 10, 11])"
     },
     "execution_count": 41,
     "metadata": {},
     "output_type": "execute_result"
    }
   ],
   "source": [
    "#示例3：a[np.where(a>5)]\n",
    "import numpy as np\n",
    "a = np.array([[ 0,  1,  2],\n",
    "       [ 3,  4,  5],\n",
    "       [ 6,  7,  8],\n",
    "       [ 9, 10, 11]])\n",
    "a[np.where(a>5)]"
   ],
   "metadata": {
    "collapsed": false,
    "ExecuteTime": {
     "end_time": "2024-06-16T14:34:03.937164Z",
     "start_time": "2024-06-16T14:34:03.924068Z"
    }
   },
   "id": "c4a0712b9cec55db",
   "execution_count": 41
  },
  {
   "cell_type": "markdown",
   "source": [
    "31.put(用给定的值替换数组中指定的元素。)"
   ],
   "metadata": {
    "collapsed": false
   },
   "id": "6b2750533f3bae86"
  },
  {
   "cell_type": "code",
   "outputs": [
    {
     "data": {
      "text/plain": "array([1, 6, 7, 4, 5, 6])"
     },
     "execution_count": 42,
     "metadata": {},
     "output_type": "execute_result"
    }
   ],
   "source": [
    "#示例1：put(arr,[1,2],[6,7])\n",
    "import numpy as np\n",
    "arr = np.array([1,2,3,4,5,6])\n",
    "np.put(arr,[1,2],[6,7])#(arr,需要替换的索引，替换值）\n",
    "arr"
   ],
   "metadata": {
    "collapsed": false,
    "ExecuteTime": {
     "end_time": "2024-06-16T14:35:36.618195Z",
     "start_time": "2024-06-16T14:35:36.596819Z"
    }
   },
   "id": "a6f72f5e4988f04b",
   "execution_count": 42
  },
  {
   "cell_type": "code",
   "outputs": [
    {
     "data": {
      "text/plain": "array([1, 9, 3, 7, 5, 6])"
     },
     "execution_count": 43,
     "metadata": {},
     "output_type": "execute_result"
    }
   ],
   "source": [
    "#示例2：put(arr,[1,3],[9,7])\n",
    "import numpy as np\n",
    "arr = np.array([1,2,3,4,5,6])\n",
    "np.put(arr,[1,3],[9,7])#(arr,需要替换的索引，替换值）\n",
    "arr"
   ],
   "metadata": {
    "collapsed": false,
    "ExecuteTime": {
     "end_time": "2024-06-16T14:35:37.524383Z",
     "start_time": "2024-06-16T14:35:37.515392Z"
    }
   },
   "id": "8e3e0e59a05d8993",
   "execution_count": 43
  },
  {
   "cell_type": "code",
   "outputs": [
    {
     "data": {
      "text/plain": "array([1, 2, 6, 4, 5, 7])"
     },
     "execution_count": 44,
     "metadata": {},
     "output_type": "execute_result"
    }
   ],
   "source": [
    "#示例3：put(arr,[2,5],[6,7])\n",
    "import numpy as np\n",
    "arr = np.array([1,2,3,4,5,6])\n",
    "np.put(arr,[2,5],[6,7])#(arr,需要替换的索引，替换值）\n",
    "arr"
   ],
   "metadata": {
    "collapsed": false,
    "ExecuteTime": {
     "end_time": "2024-06-16T14:35:38.407650Z",
     "start_time": "2024-06-16T14:35:38.395588Z"
    }
   },
   "id": "d393ab578507943f",
   "execution_count": 44
  },
  {
   "cell_type": "markdown",
   "source": [
    "32.copyto(将一个数组的内容复制到另一个数组中。)"
   ],
   "metadata": {
    "collapsed": false
   },
   "id": "7dbac1aaafa6a63"
  },
  {
   "cell_type": "code",
   "outputs": [
    {
     "name": "stdout",
     "output_type": "stream",
     "text": [
      "[4 5 6]\n"
     ]
    }
   ],
   "source": [
    "#示例1：np.copyto(arr1,arr2)\n",
    "import numpy as np\n",
    "arr1 = np.array([1,2,3])\n",
    "arr2 = np.array([4,5,6])\n",
    "arr3 = np.array([4,4,4])\n",
    "np.copyto(arr1,arr2)#copyto(目标，来源)\n",
    "print(arr1)"
   ],
   "metadata": {
    "collapsed": false,
    "ExecuteTime": {
     "end_time": "2024-06-16T14:38:47.140444Z",
     "start_time": "2024-06-16T14:38:47.126913Z"
    }
   },
   "id": "101a902736d2e1ee",
   "execution_count": 61
  },
  {
   "cell_type": "code",
   "outputs": [
    {
     "name": "stdout",
     "output_type": "stream",
     "text": [
      "[4 4 4]\n"
     ]
    }
   ],
   "source": [
    "#示例2：np.copyto(arr1,arr3)\n",
    "import numpy as np\n",
    "np.copyto(arr1,arr3)#copyto(目标，来源)\n",
    "print(arr1)"
   ],
   "metadata": {
    "collapsed": false,
    "ExecuteTime": {
     "end_time": "2024-06-16T14:38:53.331416Z",
     "start_time": "2024-06-16T14:38:53.312627Z"
    }
   },
   "id": "687b0c881e8daae4",
   "execution_count": 62
  },
  {
   "cell_type": "code",
   "outputs": [
    {
     "name": "stdout",
     "output_type": "stream",
     "text": [
      "[4 4 4]\n"
     ]
    }
   ],
   "source": [
    "#示例3：np.copyto(arr2,arr1)\n",
    "import numpy as np\n",
    "np.copyto(arr2,arr1)#copyto(目标，来源)\n",
    "print(arr2)"
   ],
   "metadata": {
    "collapsed": false,
    "ExecuteTime": {
     "end_time": "2024-06-16T14:38:53.811836Z",
     "start_time": "2024-06-16T14:38:53.799360Z"
    }
   },
   "id": "f220487f6a865b7f",
   "execution_count": 63
  },
  {
   "cell_type": "code",
   "outputs": [],
   "source": [],
   "metadata": {
    "collapsed": false
   },
   "id": "e883ca2c14654a95"
  }
 ],
 "metadata": {
  "kernelspec": {
   "display_name": "Python 3",
   "language": "python",
   "name": "python3"
  },
  "language_info": {
   "codemirror_mode": {
    "name": "ipython",
    "version": 2
   },
   "file_extension": ".py",
   "mimetype": "text/x-python",
   "name": "python",
   "nbconvert_exporter": "python",
   "pygments_lexer": "ipython2",
   "version": "2.7.6"
  }
 },
 "nbformat": 4,
 "nbformat_minor": 5
}
