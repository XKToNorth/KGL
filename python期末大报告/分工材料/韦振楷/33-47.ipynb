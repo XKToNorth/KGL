{
 "cells": [
  {
   "metadata": {},
   "cell_type": "markdown",
   "source": [
    "## 集合操作\n",
    "### 33. 查找公共元素\n",
    "\n",
    "`intersect1d` 函数以排序的方式返回两个数组中都存在的唯一的值。\n",
    "- **assume_unique**: 如果为真值，则假设输入数组中各个元素在该数组中都是唯一的。\n",
    "- **return_indices**: 如果为真，则还返回公共元素在两个数组中的索引。\n",
    "\n"
   ],
   "id": "79a844927d1478b4"
  },
  {
   "metadata": {
    "ExecuteTime": {
     "end_time": "2024-06-16T08:28:20.279877Z",
     "start_time": "2024-06-16T08:28:20.183940Z"
    }
   },
   "cell_type": "code",
   "source": "import numpy as np",
   "id": "e00fcc86ce358587",
   "outputs": [],
   "execution_count": 2
  },
  {
   "metadata": {
    "ExecuteTime": {
     "end_time": "2024-06-16T02:35:43.585384Z",
     "start_time": "2024-06-16T02:35:43.579150Z"
    }
   },
   "cell_type": "code",
   "source": [
    "#案例一\n",
    "ar1 = np.array([1, 2, 2, 3, 4, 5, 6])\n",
    "ar2 = np.array([3, 4, 4, 5, 8, 9, 1])\n",
    "np.intersect1d(ar1,ar2)"
   ],
   "id": "27d3cd5ed3effe4a",
   "outputs": [
    {
     "data": {
      "text/plain": [
       "array([1, 3, 4, 5])"
      ]
     },
     "execution_count": 10,
     "metadata": {},
     "output_type": "execute_result"
    }
   ],
   "execution_count": 10
  },
  {
   "metadata": {
    "ExecuteTime": {
     "end_time": "2024-06-16T02:35:56.453048Z",
     "start_time": "2024-06-16T02:35:56.446611Z"
    }
   },
   "cell_type": "code",
   "source": [
    "#案例二\n",
    "np.intersect1d(ar1,ar2,assume_unique=True)\n",
    "#这个相当于告诉它每个数组中每个元素都是唯一的"
   ],
   "id": "495d4f0700d5636f",
   "outputs": [
    {
     "data": {
      "text/plain": [
       "array([1, 2, 3, 4, 4, 5])"
      ]
     },
     "execution_count": 13,
     "metadata": {},
     "output_type": "execute_result"
    }
   ],
   "execution_count": 13
  },
  {
   "metadata": {
    "ExecuteTime": {
     "end_time": "2024-06-16T02:35:45.651184Z",
     "start_time": "2024-06-16T02:35:45.644870Z"
    }
   },
   "cell_type": "code",
   "source": [
    "#案例三\n",
    "np.intersect1d(ar1,ar2,return_indices=True)"
   ],
   "id": "27a2182931df069b",
   "outputs": [
    {
     "data": {
      "text/plain": [
       "(array([1, 3, 4, 5]),\n",
       " array([0, 3, 4, 5], dtype=int64),\n",
       " array([6, 0, 1, 3], dtype=int64))"
      ]
     },
     "execution_count": 12,
     "metadata": {},
     "output_type": "execute_result"
    }
   ],
   "execution_count": 12
  },
  {
   "metadata": {},
   "cell_type": "markdown",
   "source": [
    "### 34. 查找不同元素\n",
    "\n",
    "`np.setdiff1d` 函数返回 `arr1` 中存在，在 `arr2` 中不存在的所有唯一元素。\n"
   ],
   "id": "2c903c6503aaf06d"
  },
  {
   "metadata": {
    "ExecuteTime": {
     "end_time": "2024-06-16T02:47:39.536858Z",
     "start_time": "2024-06-16T02:47:39.529886Z"
    }
   },
   "cell_type": "code",
   "source": [
    "#案例一\n",
    "a = np.array([1, 7, 3, 2, 4, 1])\n",
    "b = np.array([9, 2, 5, 6, 7, 8])\n",
    "np.setdiff1d(a, b)\n",
    "#a-a ^ b"
   ],
   "id": "f982539a691369e4",
   "outputs": [
    {
     "data": {
      "text/plain": [
       "array([1, 3, 4])"
      ]
     },
     "execution_count": 18,
     "metadata": {},
     "output_type": "execute_result"
    }
   ],
   "execution_count": 18
  },
  {
   "metadata": {
    "ExecuteTime": {
     "end_time": "2024-06-16T08:28:22.831345Z",
     "start_time": "2024-06-16T08:28:22.817705Z"
    }
   },
   "cell_type": "code",
   "source": [
    "#案例二\n",
    "a = np.array([1, 2, 3, 2, 4, 1])\n",
    "b = np.array([3, 2, 3, 5, 3, 4])\n",
    "np.setdiff1d(a, b)"
   ],
   "id": "3343ebf0d53d9c2c",
   "outputs": [
    {
     "data": {
      "text/plain": [
       "array([1])"
      ]
     },
     "execution_count": 3,
     "metadata": {},
     "output_type": "execute_result"
    }
   ],
   "execution_count": 3
  },
  {
   "metadata": {
    "ExecuteTime": {
     "end_time": "2024-06-16T08:28:33.044959Z",
     "start_time": "2024-06-16T08:28:33.037902Z"
    }
   },
   "cell_type": "code",
   "source": [
    "#案例三\n",
    "a = np.array([1, 2, 3, 3, 4, 5])\n",
    "b = np.array([9, 2, 5, 6, 7, 8])\n",
    "np.setdiff1d(a, b)"
   ],
   "id": "53e51ae40b83d37f",
   "outputs": [
    {
     "data": {
      "text/plain": [
       "array([1, 3, 4])"
      ]
     },
     "execution_count": 4,
     "metadata": {},
     "output_type": "execute_result"
    }
   ],
   "execution_count": 4
  },
  {
   "metadata": {},
   "cell_type": "markdown",
   "source": [
    "### 35. 从两个数组中提取唯一元素\n",
    "\n",
    "`setxor1d` 将按顺序返回两个数组中所有唯一的值。\n"
   ],
   "id": "ec38c3a552d2e573"
  },
  {
   "metadata": {
    "ExecuteTime": {
     "end_time": "2024-06-16T02:49:00.618078Z",
     "start_time": "2024-06-16T02:49:00.611903Z"
    }
   },
   "cell_type": "code",
   "source": [
    "#案例一\n",
    "a = np.array([1, 2, 3, 4, 6])\n",
    "b = np.array([1, 4, 9, 4, 36])\n",
    "np.setxor1d(a,b)\n"
   ],
   "id": "37451e75ad244736",
   "outputs": [
    {
     "data": {
      "text/plain": [
       "array([ 2,  3,  6,  9, 36])"
      ]
     },
     "execution_count": 19,
     "metadata": {},
     "output_type": "execute_result"
    }
   ],
   "execution_count": 19
  },
  {
   "metadata": {
    "ExecuteTime": {
     "end_time": "2024-06-16T08:29:02.301171Z",
     "start_time": "2024-06-16T08:29:02.292973Z"
    }
   },
   "cell_type": "code",
   "source": [
    "#案例二\n",
    "a = np.array([1, 2, 3, 2, 4, 1])\n",
    "b = np.array([3, 2, 3, 5, 3, 4])\n",
    "np.setxor1d(a,b)"
   ],
   "id": "f8c6711d25b4c4f1",
   "outputs": [
    {
     "data": {
      "text/plain": [
       "array([1, 5])"
      ]
     },
     "execution_count": 5,
     "metadata": {},
     "output_type": "execute_result"
    }
   ],
   "execution_count": 5
  },
  {
   "metadata": {
    "ExecuteTime": {
     "end_time": "2024-06-16T08:29:24.843477Z",
     "start_time": "2024-06-16T08:29:24.836543Z"
    }
   },
   "cell_type": "code",
   "source": [
    "#案例三\n",
    "a = np.array([1, 7, 3, 2, 4, 1])\n",
    "b = np.array([9, 2, 5, 6, 7, 8])\n",
    "np.setxor1d(a,b)"
   ],
   "id": "ff0f1863d1f746ba",
   "outputs": [
    {
     "data": {
      "text/plain": [
       "array([1, 3, 4, 5, 6, 8, 9])"
      ]
     },
     "execution_count": 6,
     "metadata": {},
     "output_type": "execute_result"
    }
   ],
   "execution_count": 6
  },
  {
   "metadata": {},
   "cell_type": "markdown",
   "source": [
    "### 36. 合并\n",
    "\n",
    "`union1d` 函数将两个数组合并为一个,且自动除重。\n"
   ],
   "id": "32f0ce9468dbca91"
  },
  {
   "metadata": {
    "ExecuteTime": {
     "end_time": "2024-06-16T02:50:38.153368Z",
     "start_time": "2024-06-16T02:50:38.146488Z"
    }
   },
   "cell_type": "code",
   "source": [
    "#案例一\n",
    "a = np.array([1, 2, 3, 4, 5])\n",
    "b = np.array([1, 3, 5, 4, 36])\n",
    "np.union1d(a,b)"
   ],
   "id": "c4fb7a13cda7c9ea",
   "outputs": [
    {
     "data": {
      "text/plain": [
       "array([ 1,  2,  3,  4,  5, 36])"
      ]
     },
     "execution_count": 20,
     "metadata": {},
     "output_type": "execute_result"
    }
   ],
   "execution_count": 20
  },
  {
   "metadata": {
    "ExecuteTime": {
     "end_time": "2024-06-16T08:29:59.013879Z",
     "start_time": "2024-06-16T08:29:59.006975Z"
    }
   },
   "cell_type": "code",
   "source": [
    "#案例二\n",
    "a = np.array([1, 7, 3, 2, 4, 1])\n",
    "b = np.array([9, 2, 5, 6, 7, 8])\n",
    "np.union1d(a,b)"
   ],
   "id": "2f81512b4a77c45a",
   "outputs": [
    {
     "data": {
      "text/plain": [
       "array([1, 2, 3, 4, 5, 6, 7, 8, 9])"
      ]
     },
     "execution_count": 7,
     "metadata": {},
     "output_type": "execute_result"
    }
   ],
   "execution_count": 7
  },
  {
   "metadata": {
    "ExecuteTime": {
     "end_time": "2024-06-16T08:29:59.386482Z",
     "start_time": "2024-06-16T08:29:59.379703Z"
    }
   },
   "cell_type": "code",
   "source": [
    "#案例三\n",
    "a = np.array([1, 2, 3, 2, 4, 1])\n",
    "b = np.array([3, 2, 3, 5, 3, 4])\n",
    "np.union1d(a,b)"
   ],
   "id": "bf645e5a18f83d74",
   "outputs": [
    {
     "data": {
      "text/plain": [
       "array([1, 2, 3, 4, 5])"
      ]
     },
     "execution_count": 8,
     "metadata": {},
     "output_type": "execute_result"
    }
   ],
   "execution_count": 8
  },
  {
   "metadata": {},
   "cell_type": "markdown",
   "source": [
    "## 数组分割\n",
    "### 37. 水平分割\n",
    "\n",
    "`hsplit` 函数将数据水平分割为 n 个相等的部分。\n"
   ],
   "id": "38159cce2a67e06b"
  },
  {
   "metadata": {
    "ExecuteTime": {
     "end_time": "2024-06-16T08:32:46.501685Z",
     "start_time": "2024-06-16T08:32:46.496298Z"
    }
   },
   "cell_type": "code",
   "source": [
    "#案例一\n",
    "A = np.array([[3,4,5,2],[6,7,2,6]])\n",
    "B = np.array([[3,4,5,2],[6,7,2,6],[8,9,2,6]])\n",
    "np.hsplit(A,2)   "
   ],
   "id": "6b6a41ca3934fdf8",
   "outputs": [
    {
     "data": {
      "text/plain": [
       "[array([[3, 4],\n",
       "        [6, 7]]),\n",
       " array([[5, 2],\n",
       "        [2, 6]])]"
      ]
     },
     "execution_count": 11,
     "metadata": {},
     "output_type": "execute_result"
    }
   ],
   "execution_count": 11
  },
  {
   "metadata": {
    "ExecuteTime": {
     "end_time": "2024-06-16T08:32:46.890665Z",
     "start_time": "2024-06-16T08:32:46.885547Z"
    }
   },
   "cell_type": "code",
   "source": [
    "#案例二\n",
    "np.hsplit(B,2)"
   ],
   "id": "291d33518fcd07b",
   "outputs": [
    {
     "data": {
      "text/plain": [
       "[array([[3, 4],\n",
       "        [6, 7],\n",
       "        [8, 9]]),\n",
       " array([[5, 2],\n",
       "        [2, 6],\n",
       "        [2, 6]])]"
      ]
     },
     "execution_count": 12,
     "metadata": {},
     "output_type": "execute_result"
    }
   ],
   "execution_count": 12
  },
  {
   "metadata": {
    "ExecuteTime": {
     "end_time": "2024-06-16T08:32:53.626143Z",
     "start_time": "2024-06-16T08:32:53.620980Z"
    }
   },
   "cell_type": "code",
   "source": [
    "#案例三\n",
    "np.hsplit(A,4)    "
   ],
   "id": "c9c376a442895e6f",
   "outputs": [
    {
     "data": {
      "text/plain": [
       "[array([[3],\n",
       "        [6]]),\n",
       " array([[4],\n",
       "        [7]]),\n",
       " array([[5],\n",
       "        [2]]),\n",
       " array([[2],\n",
       "        [6]])]"
      ]
     },
     "execution_count": 13,
     "metadata": {},
     "output_type": "execute_result"
    }
   ],
   "execution_count": 13
  },
  {
   "metadata": {
    "ExecuteTime": {
     "end_time": "2024-06-16T08:32:54.000682Z",
     "start_time": "2024-06-16T08:32:53.994595Z"
    }
   },
   "cell_type": "code",
   "source": [
    "#案例四\n",
    "np.hsplit(B,4)"
   ],
   "id": "735121ca752a2601",
   "outputs": [
    {
     "data": {
      "text/plain": [
       "[array([[3],\n",
       "        [6],\n",
       "        [8]]),\n",
       " array([[4],\n",
       "        [7],\n",
       "        [9]]),\n",
       " array([[5],\n",
       "        [2],\n",
       "        [2]]),\n",
       " array([[2],\n",
       "        [6],\n",
       "        [6]])]"
      ]
     },
     "execution_count": 14,
     "metadata": {},
     "output_type": "execute_result"
    }
   ],
   "execution_count": 14
  },
  {
   "metadata": {},
   "cell_type": "markdown",
   "source": [
    "### 38. 垂直分割\n",
    "\n",
    "`vsplit` 将数据垂直分割为 n 个相等的部分。\n"
   ],
   "id": "f9c42a4de2279c57"
  },
  {
   "metadata": {
    "ExecuteTime": {
     "end_time": "2024-06-16T08:33:29.874491Z",
     "start_time": "2024-06-16T08:33:29.869190Z"
    }
   },
   "cell_type": "code",
   "source": [
    "#案例一\n",
    "A = np.array([[3,4,5,2],[6,7,2,6]])\n",
    "B = np.array([[3,4,5,2],[6,7,2,6],[8,9,2,6]])\n",
    "np.vsplit(A,2)"
   ],
   "id": "1ecd283e56f7e159",
   "outputs": [
    {
     "data": {
      "text/plain": [
       "[array([[3, 4, 5, 2]]), array([[6, 7, 2, 6]])]"
      ]
     },
     "execution_count": 16,
     "metadata": {},
     "output_type": "execute_result"
    }
   ],
   "execution_count": 16
  },
  {
   "metadata": {
    "ExecuteTime": {
     "end_time": "2024-06-16T08:33:41.478883Z",
     "start_time": "2024-06-16T08:33:41.472820Z"
    }
   },
   "cell_type": "code",
   "source": [
    "#案例二\n",
    "np.vsplit(B,3)"
   ],
   "id": "56647e0f7bbc6d97",
   "outputs": [
    {
     "data": {
      "text/plain": [
       "[array([[3, 4, 5, 2]]), array([[6, 7, 2, 6]]), array([[8, 9, 2, 6]])]"
      ]
     },
     "execution_count": 18,
     "metadata": {},
     "output_type": "execute_result"
    }
   ],
   "execution_count": 18
  },
  {
   "metadata": {},
   "cell_type": "markdown",
   "source": [
    "## 数组叠加\n",
    "### 39. 水平叠加\n",
    "\n",
    "`hstack` 将在另一个数组的末尾追加一个数组。\n"
   ],
   "id": "fa99b1b8a5c3da1c"
  },
  {
   "metadata": {
    "ExecuteTime": {
     "end_time": "2024-06-16T08:34:44.696151Z",
     "start_time": "2024-06-16T08:34:44.689792Z"
    }
   },
   "cell_type": "code",
   "source": [
    "#案例一\n",
    "a = np.array([1,2,3,4,5])\n",
    "b = np.array([1,4,9,16,25])\n",
    "\n",
    "np.hstack((a,b))"
   ],
   "id": "a0642ded1f46aeb4",
   "outputs": [
    {
     "data": {
      "text/plain": [
       "array([ 1,  2,  3,  4,  5,  1,  4,  9, 16, 25])"
      ]
     },
     "execution_count": 23,
     "metadata": {},
     "output_type": "execute_result"
    }
   ],
   "execution_count": 23
  },
  {
   "metadata": {},
   "cell_type": "markdown",
   "source": [
    "### 40. 垂直叠加\n",
    "\n",
    "`vstack` 将一个数组堆叠在另一个数组上。\n"
   ],
   "id": "1107c025f7fc10e2"
  },
  {
   "metadata": {
    "ExecuteTime": {
     "end_time": "2024-06-16T08:34:46.453399Z",
     "start_time": "2024-06-16T08:34:46.447316Z"
    }
   },
   "cell_type": "code",
   "source": [
    "#案例一\n",
    "np.vstack((a,b))"
   ],
   "id": "f6ff823507f7e1c1",
   "outputs": [
    {
     "data": {
      "text/plain": [
       "array([[ 1,  2,  3,  4,  5],\n",
       "       [ 1,  4,  9, 16, 25]])"
      ]
     },
     "execution_count": 24,
     "metadata": {},
     "output_type": "execute_result"
    }
   ],
   "execution_count": 24
  },
  {
   "metadata": {
    "ExecuteTime": {
     "end_time": "2024-06-16T08:34:38.678965Z",
     "start_time": "2024-06-16T08:34:38.658358Z"
    }
   },
   "cell_type": "code",
   "source": [
    "#案例二\n",
    "a = np.array([1,2,3,4,5])\n",
    "b = np.array([1,4,9,16])\n",
    "np.vstack((a,b))\n",
    "#列数不对称就会报错"
   ],
   "id": "3458e330c97d2b48",
   "outputs": [
    {
     "ename": "ValueError",
     "evalue": "all the input array dimensions except for the concatenation axis must match exactly, but along dimension 1, the array at index 0 has size 5 and the array at index 1 has size 4",
     "output_type": "error",
     "traceback": [
      "\u001B[1;31m---------------------------------------------------------------------------\u001B[0m",
      "\u001B[1;31mValueError\u001B[0m                                Traceback (most recent call last)",
      "Cell \u001B[1;32mIn[21], line 3\u001B[0m\n\u001B[0;32m      1\u001B[0m a \u001B[38;5;241m=\u001B[39m np\u001B[38;5;241m.\u001B[39marray([\u001B[38;5;241m1\u001B[39m,\u001B[38;5;241m2\u001B[39m,\u001B[38;5;241m3\u001B[39m,\u001B[38;5;241m4\u001B[39m,\u001B[38;5;241m5\u001B[39m])\n\u001B[0;32m      2\u001B[0m b \u001B[38;5;241m=\u001B[39m np\u001B[38;5;241m.\u001B[39marray([\u001B[38;5;241m1\u001B[39m,\u001B[38;5;241m4\u001B[39m,\u001B[38;5;241m9\u001B[39m,\u001B[38;5;241m16\u001B[39m])\n\u001B[1;32m----> 3\u001B[0m np\u001B[38;5;241m.\u001B[39mvstack((a,b))\n",
      "File \u001B[1;32mE:\\ANACONDA\\Lib\\site-packages\\numpy\\core\\shape_base.py:289\u001B[0m, in \u001B[0;36mvstack\u001B[1;34m(tup, dtype, casting)\u001B[0m\n\u001B[0;32m    287\u001B[0m \u001B[38;5;28;01mif\u001B[39;00m \u001B[38;5;129;01mnot\u001B[39;00m \u001B[38;5;28misinstance\u001B[39m(arrs, \u001B[38;5;28mlist\u001B[39m):\n\u001B[0;32m    288\u001B[0m     arrs \u001B[38;5;241m=\u001B[39m [arrs]\n\u001B[1;32m--> 289\u001B[0m \u001B[38;5;28;01mreturn\u001B[39;00m _nx\u001B[38;5;241m.\u001B[39mconcatenate(arrs, \u001B[38;5;241m0\u001B[39m, dtype\u001B[38;5;241m=\u001B[39mdtype, casting\u001B[38;5;241m=\u001B[39mcasting)\n",
      "\u001B[1;31mValueError\u001B[0m: all the input array dimensions except for the concatenation axis must match exactly, but along dimension 1, the array at index 0 has size 5 and the array at index 1 has size 4"
     ]
    }
   ],
   "execution_count": 21
  },
  {
   "metadata": {},
   "cell_type": "markdown",
   "source": [
    "## 数组比较\n",
    "### 41. allclose\n",
    "\n",
    "如果两个数组的形状相同，则 `allclose` 函数根据公差值查找两个数组是否相等或近似相等。\n"
   ],
   "id": "c6e53a277c5bc33d"
  },
  {
   "metadata": {
    "ExecuteTime": {
     "end_time": "2024-06-16T03:27:45.553905Z",
     "start_time": "2024-06-16T03:27:45.546058Z"
    }
   },
   "cell_type": "code",
   "source": [
    "#案例一\n",
    "a = np.array([0.25,0.4,0.6,0.32])\n",
    "b = np.array([0.26,0.3,0.7,0.32])\n",
    "\n",
    "tolerance = 0.1           ## 公差值\n",
    "np.allclose(a,b,atol=tolerance)\n",
    "#∣a−b∣≤(atol+rtol×∣b∣) 相对公差\n",
    "# 默认的rtol 值为 1e-05"
   ],
   "id": "f19cf9b448c3c70b",
   "outputs": [
    {
     "data": {
      "text/plain": [
       "False"
      ]
     },
     "execution_count": 35,
     "metadata": {},
     "output_type": "execute_result"
    }
   ],
   "execution_count": 35
  },
  {
   "metadata": {
    "ExecuteTime": {
     "end_time": "2024-06-16T03:26:05.268287Z",
     "start_time": "2024-06-16T03:26:05.262896Z"
    }
   },
   "cell_type": "code",
   "source": [
    "#案例二\n",
    "tolerance = 0.5\n",
    "np.allclose(a,b,tolerance)"
   ],
   "id": "4d668b660e37ae73",
   "outputs": [
    {
     "data": {
      "text/plain": [
       "True"
      ]
     },
     "execution_count": 33,
     "metadata": {},
     "output_type": "execute_result"
    }
   ],
   "execution_count": 33
  },
  {
   "metadata": {},
   "cell_type": "markdown",
   "source": [
    "### 42. equal\n",
    "\n",
    "它比较两个数组的每个元素，如果元素匹配就返回 True。\n"
   ],
   "id": "2f38a46c8cf98144"
  },
  {
   "metadata": {
    "ExecuteTime": {
     "end_time": "2024-06-16T03:31:52.173541Z",
     "start_time": "2024-06-16T03:31:52.167654Z"
    }
   },
   "cell_type": "code",
   "source": [
    "#案例一\n",
    "np.equal(a,b)\n"
   ],
   "id": "5846d847e7116777",
   "outputs": [
    {
     "data": {
      "text/plain": [
       "array([False, False, False,  True])"
      ]
     },
     "execution_count": 38,
     "metadata": {},
     "output_type": "execute_result"
    }
   ],
   "execution_count": 38
  },
  {
   "metadata": {},
   "cell_type": "markdown",
   "source": [
    "## 重复的数组元素\n",
    "### repeat\n",
    "\n",
    "它用于重复数组中的元素 n 次。\n",
    "\n",
    "- **A**: 重复的元素\n",
    "- **Repeats**: 重复的次数。\n"
   ],
   "id": "960a2a4689e7a7f"
  },
  {
   "metadata": {
    "ExecuteTime": {
     "end_time": "2024-06-16T03:32:47.368804Z",
     "start_time": "2024-06-16T03:32:47.363597Z"
    }
   },
   "cell_type": "code",
   "source": [
    "#案例一\n",
    "np.repeat('2024',4)"
   ],
   "id": "35f50750df4f2f12",
   "outputs": [
    {
     "data": {
      "text/plain": [
       "array(['2024', '2024', '2024', '2024'], dtype='<U4')"
      ]
     },
     "execution_count": 39,
     "metadata": {},
     "output_type": "execute_result"
    }
   ],
   "execution_count": 39
  },
  {
   "metadata": {
    "ExecuteTime": {
     "end_time": "2024-06-16T03:33:01.146332Z",
     "start_time": "2024-06-16T03:33:01.132401Z"
    }
   },
   "cell_type": "code",
   "source": [
    "#案例二\n",
    "import pandas as pd\n",
    "\n",
    "fruits = pd.DataFrame([\n",
    "    ['Mango',40],\n",
    "    ['Apple',90],\n",
    "    ['Banana',130]\n",
    "],columns=['Product','ContainerSales'])\n",
    "fruits"
   ],
   "id": "84f6b5729e0fb9dc",
   "outputs": [
    {
     "data": {
      "text/plain": [
       "  Product  ContainerSales\n",
       "0   Mango              40\n",
       "1   Apple              90\n",
       "2  Banana             130"
      ],
      "text/html": [
       "<div>\n",
       "<style scoped>\n",
       "    .dataframe tbody tr th:only-of-type {\n",
       "        vertical-align: middle;\n",
       "    }\n",
       "\n",
       "    .dataframe tbody tr th {\n",
       "        vertical-align: top;\n",
       "    }\n",
       "\n",
       "    .dataframe thead th {\n",
       "        text-align: right;\n",
       "    }\n",
       "</style>\n",
       "<table border=\"1\" class=\"dataframe\">\n",
       "  <thead>\n",
       "    <tr style=\"text-align: right;\">\n",
       "      <th></th>\n",
       "      <th>Product</th>\n",
       "      <th>ContainerSales</th>\n",
       "    </tr>\n",
       "  </thead>\n",
       "  <tbody>\n",
       "    <tr>\n",
       "      <th>0</th>\n",
       "      <td>Mango</td>\n",
       "      <td>40</td>\n",
       "    </tr>\n",
       "    <tr>\n",
       "      <th>1</th>\n",
       "      <td>Apple</td>\n",
       "      <td>90</td>\n",
       "    </tr>\n",
       "    <tr>\n",
       "      <th>2</th>\n",
       "      <td>Banana</td>\n",
       "      <td>130</td>\n",
       "    </tr>\n",
       "  </tbody>\n",
       "</table>\n",
       "</div>"
      ]
     },
     "execution_count": 40,
     "metadata": {},
     "output_type": "execute_result"
    }
   ],
   "execution_count": 40
  },
  {
   "metadata": {
    "ExecuteTime": {
     "end_time": "2024-06-16T03:33:54.969210Z",
     "start_time": "2024-06-16T03:33:54.961046Z"
    }
   },
   "cell_type": "code",
   "source": [
    "fruits['year'] = np.repeat(2024,fruits.shape[0])\n",
    "fruits"
   ],
   "id": "ded48cc9a791eaa3",
   "outputs": [
    {
     "data": {
      "text/plain": [
       "  Product  ContainerSales  year\n",
       "0   Mango              40  2024\n",
       "1   Apple              90  2024\n",
       "2  Banana             130  2024"
      ],
      "text/html": [
       "<div>\n",
       "<style scoped>\n",
       "    .dataframe tbody tr th:only-of-type {\n",
       "        vertical-align: middle;\n",
       "    }\n",
       "\n",
       "    .dataframe tbody tr th {\n",
       "        vertical-align: top;\n",
       "    }\n",
       "\n",
       "    .dataframe thead th {\n",
       "        text-align: right;\n",
       "    }\n",
       "</style>\n",
       "<table border=\"1\" class=\"dataframe\">\n",
       "  <thead>\n",
       "    <tr style=\"text-align: right;\">\n",
       "      <th></th>\n",
       "      <th>Product</th>\n",
       "      <th>ContainerSales</th>\n",
       "      <th>year</th>\n",
       "    </tr>\n",
       "  </thead>\n",
       "  <tbody>\n",
       "    <tr>\n",
       "      <th>0</th>\n",
       "      <td>Mango</td>\n",
       "      <td>40</td>\n",
       "      <td>2024</td>\n",
       "    </tr>\n",
       "    <tr>\n",
       "      <th>1</th>\n",
       "      <td>Apple</td>\n",
       "      <td>90</td>\n",
       "      <td>2024</td>\n",
       "    </tr>\n",
       "    <tr>\n",
       "      <th>2</th>\n",
       "      <td>Banana</td>\n",
       "      <td>130</td>\n",
       "      <td>2024</td>\n",
       "    </tr>\n",
       "  </tbody>\n",
       "</table>\n",
       "</div>"
      ]
     },
     "execution_count": 42,
     "metadata": {},
     "output_type": "execute_result"
    }
   ],
   "execution_count": 42
  },
  {
   "metadata": {},
   "cell_type": "markdown",
   "source": [
    "### 43. tile\n",
    "\n",
    "通过重复 A，rep 次来构造一个数组。\n"
   ],
   "id": "b9c9eeb4aee715a7"
  },
  {
   "metadata": {
    "ExecuteTime": {
     "end_time": "2024-06-16T03:34:40.035376Z",
     "start_time": "2024-06-16T03:34:40.029967Z"
    }
   },
   "cell_type": "code",
   "source": [
    "#案例一\n",
    "np.tile(\"Ramm\",5)"
   ],
   "id": "ffc5e4e0f7cab98c",
   "outputs": [
    {
     "data": {
      "text/plain": [
       "array(['Ramm', 'Ramm', 'Ramm', 'Ramm', 'Ramm'], dtype='<U4')"
      ]
     },
     "execution_count": 44,
     "metadata": {},
     "output_type": "execute_result"
    }
   ],
   "execution_count": 44
  },
  {
   "metadata": {
    "ExecuteTime": {
     "end_time": "2024-06-16T03:35:01.396966Z",
     "start_time": "2024-06-16T03:35:01.391033Z"
    }
   },
   "cell_type": "code",
   "source": [
    "#案例二\n",
    "np.tile(3,(2,3))"
   ],
   "id": "2280992195173fc1",
   "outputs": [
    {
     "data": {
      "text/plain": [
       "array([[3, 3, 3],\n",
       "       [3, 3, 3]])"
      ]
     },
     "execution_count": 45,
     "metadata": {},
     "output_type": "execute_result"
    }
   ],
   "execution_count": 45
  },
  {
   "metadata": {},
   "cell_type": "markdown",
   "source": [
    "## 爱因斯坦求和\n",
    "### 44. einsum\n",
    "\n",
    "此函数用于计算数组上的多维和线性代数运算。\n"
   ],
   "id": "893e9d7627018b37"
  },
  {
   "metadata": {
    "ExecuteTime": {
     "end_time": "2024-06-16T03:40:31.505729Z",
     "start_time": "2024-06-16T03:40:31.500515Z"
    }
   },
   "cell_type": "code",
   "source": [
    "#案例一\n",
    "a = np.arange(1,10).reshape(3,3)\n",
    "b = np.arange(21,30).reshape(3,3)\n",
    "np.einsum('ij',a)\n"
   ],
   "id": "902d4044181f4b5f",
   "outputs": [
    {
     "data": {
      "text/plain": [
       "array([[1, 2, 3],\n",
       "       [4, 5, 6],\n",
       "       [7, 8, 9]])"
      ]
     },
     "execution_count": 52,
     "metadata": {},
     "output_type": "execute_result"
    }
   ],
   "execution_count": 52
  },
  {
   "metadata": {
    "ExecuteTime": {
     "end_time": "2024-06-16T03:40:32.671067Z",
     "start_time": "2024-06-16T03:40:32.664563Z"
    }
   },
   "cell_type": "code",
   "source": [
    "#案例二\n",
    "np.einsum('ij',b)\n"
   ],
   "id": "de6bdbde203ffc5",
   "outputs": [
    {
     "data": {
      "text/plain": [
       "array([[21, 22, 23],\n",
       "       [24, 25, 26],\n",
       "       [27, 28, 29]])"
      ]
     },
     "execution_count": 53,
     "metadata": {},
     "output_type": "execute_result"
    }
   ],
   "execution_count": 53
  },
  {
   "metadata": {
    "ExecuteTime": {
     "end_time": "2024-06-16T03:40:43.436031Z",
     "start_time": "2024-06-16T03:40:43.431717Z"
    }
   },
   "cell_type": "code",
   "source": [
    "#案例三\n",
    "np.einsum('ii->i',a)"
   ],
   "id": "cf9bc0db2f4bb7ef",
   "outputs": [
    {
     "data": {
      "text/plain": [
       "15"
      ]
     },
     "execution_count": 55,
     "metadata": {},
     "output_type": "execute_result"
    }
   ],
   "execution_count": 55
  },
  {
   "metadata": {
    "ExecuteTime": {
     "end_time": "2024-06-16T03:36:01.354040Z",
     "start_time": "2024-06-16T03:36:01.349143Z"
    }
   },
   "cell_type": "code",
   "source": [
    "#案例四\n",
    "np.einsum('ji',a)\n"
   ],
   "id": "def69048785109f6",
   "outputs": [
    {
     "data": {
      "text/plain": [
       "array([[1, 4, 7],\n",
       "       [2, 5, 8],\n",
       "       [3, 6, 9]])"
      ]
     },
     "execution_count": 47,
     "metadata": {},
     "output_type": "execute_result"
    }
   ],
   "execution_count": 47
  },
  {
   "metadata": {
    "ExecuteTime": {
     "end_time": "2024-06-16T03:36:35.739025Z",
     "start_time": "2024-06-16T03:36:35.726986Z"
    }
   },
   "cell_type": "code",
   "source": [
    "#案例五\n",
    "np.einsum('ij,jk',a,b)"
   ],
   "id": "fb6cf7736795b37e",
   "outputs": [
    {
     "data": {
      "text/plain": [
       "array([[150, 156, 162],\n",
       "       [366, 381, 396],\n",
       "       [582, 606, 630]])"
      ]
     },
     "execution_count": 48,
     "metadata": {},
     "output_type": "execute_result"
    }
   ],
   "execution_count": 48
  },
  {
   "metadata": {
    "ExecuteTime": {
     "end_time": "2024-06-16T03:37:20.243840Z",
     "start_time": "2024-06-16T03:37:20.237452Z"
    }
   },
   "cell_type": "code",
   "source": [
    "#案例六\n",
    "np.einsum('ii',a)"
   ],
   "id": "9457b46db6f7c270",
   "outputs": [
    {
     "data": {
      "text/plain": [
       "15"
      ]
     },
     "execution_count": 49,
     "metadata": {},
     "output_type": "execute_result"
    }
   ],
   "execution_count": 49
  },
  {
   "metadata": {},
   "cell_type": "markdown",
   "source": [
    "## 统计分析\n",
    "### 45. 直方图\n",
    "\n",
    "这是 Numpy 的重要统计分析函数，可计算一组数据的直方图值。\n"
   ],
   "id": "6fcc7cc479500f60"
  },
  {
   "metadata": {
    "ExecuteTime": {
     "end_time": "2024-06-16T03:41:32.691403Z",
     "start_time": "2024-06-16T03:41:32.679254Z"
    }
   },
   "cell_type": "code",
   "source": [
    "#案例一\n",
    "A = np.array([[3, 4, 5, 2],\n",
    "              [6, 7, 2, 6]])\n",
    "np.histogram(A)"
   ],
   "id": "2955b9ad849824dc",
   "outputs": [
    {
     "data": {
      "text/plain": [
       "(array([2, 0, 1, 0, 1, 0, 1, 0, 2, 1], dtype=int64),\n",
       " array([2. , 2.5, 3. , 3.5, 4. , 4.5, 5. , 5.5, 6. , 6.5, 7. ]))"
      ]
     },
     "execution_count": 56,
     "metadata": {},
     "output_type": "execute_result"
    }
   ],
   "execution_count": 56
  },
  {
   "metadata": {},
   "cell_type": "markdown",
   "source": [
    "### 46. 百分位数\n",
    "\n",
    "沿指定轴计算数据的 Q-T-T 百分位数。\n",
    "\n",
    "- **a**: 输入。\n",
    "- **q**: 要计算的百分位。\n",
    "- **overwrite_input**: 如果为 true，则允许输入数组修改中间计算以节省内存。\n"
   ],
   "id": "cdde6c3e42b3598a"
  },
  {
   "metadata": {
    "ExecuteTime": {
     "end_time": "2024-06-16T03:45:55.316533Z",
     "start_time": "2024-06-16T03:45:55.303834Z"
    }
   },
   "cell_type": "code",
   "source": [
    "#案例一\n",
    "a = np.array([[2, 4, 6], [4, 8, 12]])\n",
    "\n",
    "np.percentile(a, 50)"
   ],
   "id": "fc4992e4599e8c5f",
   "outputs": [
    {
     "data": {
      "text/plain": [
       "5.0"
      ]
     },
     "execution_count": 57,
     "metadata": {},
     "output_type": "execute_result"
    }
   ],
   "execution_count": 57
  },
  {
   "metadata": {
    "ExecuteTime": {
     "end_time": "2024-06-16T03:47:57.630607Z",
     "start_time": "2024-06-16T03:47:57.623602Z"
    }
   },
   "cell_type": "code",
   "source": [
    "#案例二\n",
    "np.percentile(a, 10)"
   ],
   "id": "32c345c89ae8d34d",
   "outputs": [
    {
     "data": {
      "text/plain": [
       "3.0"
      ]
     },
     "execution_count": 58,
     "metadata": {},
     "output_type": "execute_result"
    }
   ],
   "execution_count": 58
  },
  {
   "metadata": {
    "ExecuteTime": {
     "end_time": "2024-06-16T03:58:48.271894Z",
     "start_time": "2024-06-16T03:58:48.266515Z"
    }
   },
   "cell_type": "code",
   "source": [
    "#案例三\n",
    "arr = np.array([2,3,4,1,6,7])\n",
    "np.percentile(arr,5)"
   ],
   "id": "ead01ff9afb410a7",
   "outputs": [
    {
     "data": {
      "text/plain": [
       "1.25"
      ]
     },
     "execution_count": 61,
     "metadata": {},
     "output_type": "execute_result"
    }
   ],
   "execution_count": 61
  },
  {
   "metadata": {},
   "cell_type": "markdown",
   "source": [
    "### 47. 标准偏差和方差\n",
    "\n",
    "`std` 和 `var` 是 NumPy 的两个函数，用于计算每轴的标准偏差和方差。\n"
   ],
   "id": "b3ba839f71cf1a62"
  },
  {
   "metadata": {
    "ExecuteTime": {
     "end_time": "2024-06-16T04:04:48.012754Z",
     "start_time": "2024-06-16T04:04:48.006025Z"
    }
   },
   "cell_type": "code",
   "source": [
    "#案例一\n",
    "a = np.array([[2, 4, 6], [4, 8, 12]])\n",
    "np.mean(a,axis=0)"
   ],
   "id": "608280148d740e02",
   "outputs": [
    {
     "data": {
      "text/plain": [
       "array([3., 6., 9.])"
      ]
     },
     "execution_count": 72,
     "metadata": {},
     "output_type": "execute_result"
    }
   ],
   "execution_count": 72
  },
  {
   "metadata": {
    "ExecuteTime": {
     "end_time": "2024-06-16T03:59:08.138250Z",
     "start_time": "2024-06-16T03:59:08.130704Z"
    }
   },
   "cell_type": "code",
   "source": [
    "#案例二\n",
    "np.std(a,axis=1)"
   ],
   "id": "3b5cd0b075ef94cf",
   "outputs": [
    {
     "data": {
      "text/plain": [
       "array([1.63299316, 3.26598632])"
      ]
     },
     "execution_count": 62,
     "metadata": {},
     "output_type": "execute_result"
    }
   ],
   "execution_count": 62
  },
  {
   "metadata": {
    "ExecuteTime": {
     "end_time": "2024-06-16T03:59:16.609773Z",
     "start_time": "2024-06-16T03:59:16.602338Z"
    }
   },
   "cell_type": "code",
   "source": [
    "#案例三\n",
    "np.std(a,axis=0)    ## Column Wise"
   ],
   "id": "a3b4612827f8e2f9",
   "outputs": [
    {
     "data": {
      "text/plain": [
       "array([1., 2., 3.])"
      ]
     },
     "execution_count": 63,
     "metadata": {},
     "output_type": "execute_result"
    }
   ],
   "execution_count": 63
  },
  {
   "metadata": {
    "ExecuteTime": {
     "end_time": "2024-06-16T03:59:17.072495Z",
     "start_time": "2024-06-16T03:59:17.066571Z"
    }
   },
   "cell_type": "code",
   "source": [
    "#案例四\n",
    "np.var(a,axis=1)"
   ],
   "id": "e90c17ad7c5f69c5",
   "outputs": [
    {
     "data": {
      "text/plain": [
       "array([ 2.66666667, 10.66666667])"
      ]
     },
     "execution_count": 64,
     "metadata": {},
     "output_type": "execute_result"
    }
   ],
   "execution_count": 64
  },
  {
   "metadata": {
    "ExecuteTime": {
     "end_time": "2024-06-16T03:59:17.344738Z",
     "start_time": "2024-06-16T03:59:17.337990Z"
    }
   },
   "cell_type": "code",
   "source": [
    "#案例五\n",
    "np.var(a,axis=0)"
   ],
   "id": "3d642e8b385cce4b",
   "outputs": [
    {
     "data": {
      "text/plain": [
       "array([1., 4., 9.])"
      ]
     },
     "execution_count": 65,
     "metadata": {},
     "output_type": "execute_result"
    }
   ],
   "execution_count": 65
  },
  {
   "metadata": {},
   "cell_type": "code",
   "outputs": [],
   "execution_count": null,
   "source": "",
   "id": "e94b85f7285acaa4"
  }
 ],
 "metadata": {
  "kernelspec": {
   "display_name": "Python 3",
   "language": "python",
   "name": "python3"
  },
  "language_info": {
   "codemirror_mode": {
    "name": "ipython",
    "version": 2
   },
   "file_extension": ".py",
   "mimetype": "text/x-python",
   "name": "python",
   "nbconvert_exporter": "python",
   "pygments_lexer": "ipython2",
   "version": "2.7.6"
  }
 },
 "nbformat": 4,
 "nbformat_minor": 5
}
