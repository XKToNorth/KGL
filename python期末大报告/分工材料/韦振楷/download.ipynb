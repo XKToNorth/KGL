{
 "cells": [
  {
   "metadata": {},
   "cell_type": "markdown",
   "source": [
    "### 安装python\n",
    "\n",
    "安装Python：首先，你需要确保你的计算机上已经安装了Python。如果你还没有安装，可以从Python官网下载并安装适合你操作系统的Python版本。安装时，请确保选择了添加Python到环境变量的选项。"
   ],
   "id": "72dd5427b33d3ee0"
  },
  {
   "metadata": {},
   "cell_type": "markdown",
   "source": "### 方法一",
   "id": "c59326563c9256c2"
  },
  {
   "metadata": {},
   "cell_type": "markdown",
   "source": [
    "#### windows下载\n",
    "下载get-pip.py文件在URL：https://bootstrap.pypa.io/get-pip.py\n",
    "再在终端输入：\n",
    "\n",
    "python get-pip.py\n"
   ],
   "id": "a47ed8581d059234"
  },
  {
   "metadata": {},
   "cell_type": "markdown",
   "source": [
    "#### Mac和Linux\n",
    "在终端输入：\n",
    "curl https://bootstrap.pypa.io/get-pip.py -o get-pip.py\n",
    "\n",
    "python get-pip.py\n"
   ],
   "id": "9f93bd6910a40775"
  },
  {
   "metadata": {},
   "cell_type": "markdown",
   "source": "### 方法二",
   "id": "34f957ea0579d769"
  },
  {
   "metadata": {},
   "cell_type": "markdown",
   "source": [
    "#### 通过安装pip\n",
    "pip是Python的包管理工具，通常在安装Python时会自动安装pip。你可以通过命令行检查pip是否已经安装：\n",
    "在终端输入：\n",
    "\n",
    "pip --version"
   ],
   "id": "5e6b649d36d914f8"
  },
  {
   "metadata": {},
   "cell_type": "markdown",
   "source": "pip install numpy\n",
   "id": "2e6ffce3f81aa5c0"
  },
  {
   "metadata": {},
   "cell_type": "markdown",
   "source": "### 方法三",
   "id": "f8ec55553f6e1347"
  },
  {
   "metadata": {},
   "cell_type": "markdown",
   "source": [
    "#### 通过安装Anaconda\n",
    "访问Anaconda官网下载适合你操作系统的Anaconda安装包。\n",
    "按照安装向导的指示完成安装。\n",
    "\n",
    "打开Anaconda Prompt（Windows）或终端（macOS/Linux），然后运行以下命令：\n",
    "conda install numpy\n"
   ],
   "id": "f622cbc75029070e"
  },
  {
   "metadata": {},
   "cell_type": "markdown",
   "source": "### 方法四",
   "id": "f75fd91b2386ce4a"
  },
  {
   "metadata": {},
   "cell_type": "markdown",
   "source": [
    "#### 通过源代码安装NumPy\n",
    "下载NumPy源代码：\n",
    "访问NumPy的GitHub仓库（https://github.com/numpy/numpy） 或官方网站（https://numpy.org/） 下载源代码压缩包。\n",
    "\n",
    "python setup.py install\n"
   ],
   "id": "89049b8f7cf75533"
  },
  {
   "metadata": {},
   "cell_type": "markdown",
   "source": [
    "解压并安装：\n",
    "解压下载的压缩包，打开命令行或终端，导航到解压后的目录，然后运行以下命令：\n",
    "\n",
    "python setup.py install\n"
   ],
   "id": "947afcb64e670342"
  },
  {
   "metadata": {},
   "cell_type": "markdown",
   "source": "### 方法五",
   "id": "382eed996fac570b"
  },
  {
   "metadata": {},
   "cell_type": "markdown",
   "source": [
    "#### 通过Jupyter Notebook安装和验证NumPy\n",
    "在Jupyter Notebook中安装NumPy：\n",
    "打开一个新的Notebook，在单元格中输入以下命令并运行：\n",
    "\n",
    "!pip install numpy\n"
   ],
   "id": "f32a3435893c6317"
  },
  {
   "metadata": {},
   "cell_type": "markdown",
   "source": "### 方法六",
   "id": "aa3d2cc5105f7524"
  },
  {
   "metadata": {},
   "cell_type": "markdown",
   "source": [
    "#### 使用操作系统的包管理器安装NumPy\n",
    "一些操作系统的包管理器也提供了NumPy的安装包。\n",
    "\n",
    "对于Ubuntu：\n",
    "\n",
    "sudo apt-get update\n",
    "\n",
    "sudo apt-get install python3-numpy\n"
   ],
   "id": "75e59420ea1cf193"
  },
  {
   "metadata": {},
   "cell_type": "markdown",
   "source": [
    "对于macOS（使用Homebrew）：\n",
    "\n",
    "brew install numpy\n"
   ],
   "id": "eeb674c143a155b1"
  },
  {
   "metadata": {},
   "cell_type": "markdown",
   "source": "### 最后验证安装成功",
   "id": "841dab3d237067b"
  },
  {
   "metadata": {},
   "cell_type": "markdown",
   "source": [
    "python：\n",
    "import numpy as np\n",
    "print(np.__version__)\n"
   ],
   "id": "bedbdee42433e58a"
  }
 ],
 "metadata": {
  "kernelspec": {
   "display_name": "Python 3",
   "language": "python",
   "name": "python3"
  },
  "language_info": {
   "codemirror_mode": {
    "name": "ipython",
    "version": 2
   },
   "file_extension": ".py",
   "mimetype": "text/x-python",
   "name": "python",
   "nbconvert_exporter": "python",
   "pygments_lexer": "ipython2",
   "version": "2.7.6"
  }
 },
 "nbformat": 4,
 "nbformat_minor": 5
}
